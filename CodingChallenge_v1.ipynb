{
 "cells": [
  {
   "cell_type": "markdown",
   "id": "2617147a-5efd-4572-9ac0-6b48d1269fa3",
   "metadata": {},
   "source": [
    "## Data loading\n",
    "\n",
    "To work with any kind of data we first have to load it. For this we use a dataloader that reads the images as well as their labels and transforms them into pytorch readable tensors."
   ]
  },
  {
   "cell_type": "code",
   "execution_count": 1,
   "id": "7d80171d",
   "metadata": {},
   "outputs": [],
   "source": [
    "import pathlib\n",
    "\n",
    "import torch\n",
    "import torch.nn as nn\n",
    "\n",
    "from torch.utils.data import Dataset, DataLoader\n",
    "from torchvision.io import read_image"
   ]
  },
  {
   "cell_type": "code",
   "execution_count": 2,
   "id": "0090711b-668a-4bab-a4d7-686081d239cb",
   "metadata": {
    "is_executing": true
   },
   "outputs": [],
   "source": [
    "class RSiMCCDataset(Dataset):\n",
    "    def __init__(self, transform=None):\n",
    "        super().__init__()\n",
    "        self.transform = transform\n",
    "        # get images\n",
    "        image_files = [x.resolve() for x in pathlib.Path(\".\").glob('data/*/*')]\n",
    "        # Image.open() has a bug, this is a workaround\n",
    "        self.images=[read_image(str(p)) for p in image_files] \n",
    "        # get labels from image path\n",
    "        labels = [x.parts[-2] for x in image_files]\n",
    "        self.classes = sorted(list(set(labels)))\n",
    "        self.labels = [self.label_to_tensor(lbl) for lbl in labels]\n",
    "\n",
    "        assert len(self.labels) == len(self.images), f\"Found {len(self.labels)} labels and {len(self.images)} images\"\n",
    "\n",
    "    def label_to_tensor(self, lbl):\n",
    "        \"\"\"\n",
    "        Converts the string label to a one-hot tensor where every entry is zero except the label which is one.\n",
    "        \n",
    "        \"\"\"\n",
    "        assert lbl in self.classes, f\"Class {lbl} not a valid class (valid classes: {self.classes})\"\n",
    "        t = torch.zeros(len(self.classes))\n",
    "        t[self.classes.index(lbl)] = 1\n",
    "        return t\n",
    "\n",
    "    def tensor_to_label(self, t):\n",
    "        \"\"\"\n",
    "        Returns the classname in string format\n",
    "        \"\"\"\n",
    "        assert len(t.shape) == 1, f\"Can only convert 1-dimensional tensors (shape of tensor: {t.shape})\"\n",
    "        assert len(t) == len(self.classes), f\"Lenght of tensor ({len(t)}) does not match number of classes ({len(classes)})\"\n",
    "        return self.classes[t.argmax()]\n",
    "\n",
    "    def __len__(self):\n",
    "        return len(self.labels)\n",
    "\n",
    "    def __getitem__(self, idx):\n",
    "        img = self.images[idx].float()/255\n",
    "        if self.transform:\n",
    "            img = self.transform(img)\n",
    "        return img, self.labels[idx]"
   ]
  },
  {
   "cell_type": "markdown",
   "id": "685aa618-6d38-4ff5-bac6-2e16f8c7a25e",
   "metadata": {},
   "source": [
    "## Examples\n",
    "Now lets load the dataset and look at some examples by just randomly loading the images and their labels"
   ]
  },
  {
   "cell_type": "code",
   "execution_count": 3,
   "id": "673f108f-b1c0-4ab8-a331-3a6d038d2cb8",
   "metadata": {},
   "outputs": [],
   "source": [
    "dataset = RSiMCCDataset()"
   ]
  },
  {
   "cell_type": "code",
   "execution_count": 4,
   "id": "0e8257cf",
   "metadata": {},
   "outputs": [
    {
     "name": "stdout",
     "output_type": "stream",
     "text": [
      "The dataset consists of 11519 RGB images of shape torch.Size([3, 64, 64]) labeled in 10 classes which are AnnualCrop, Forest, HerbaceousVegetation, Highway, Industrial, Pasture, PermanentCrop, Residential, River, SeaLake\n"
     ]
    }
   ],
   "source": [
    "print(f\"The dataset consists of {len(dataset)} RGB images of shape {dataset.images[0].shape} labeled in {dataset.labels[0].shape[0]} classes which are \" + ', '.join(dataset.classes))"
   ]
  },
  {
   "cell_type": "code",
   "execution_count": 5,
   "id": "88aefed8",
   "metadata": {},
   "outputs": [
    {
     "data": {
      "text/plain": [
       "tensor([0., 0., 0., 0., 1., 0., 0., 0., 0., 0.])"
      ]
     },
     "execution_count": 5,
     "metadata": {},
     "output_type": "execute_result"
    }
   ],
   "source": [
    "dataset.labels[0]"
   ]
  },
  {
   "cell_type": "code",
   "execution_count": 6,
   "id": "429d3a99-809d-456d-b3ed-7db865d1aebc",
   "metadata": {},
   "outputs": [
    {
     "data": {
      "image/png": "[encoded data removed]",
      "text/plain": [
       "<Figure size 640x480 with 1 Axes>"
      ]
     },
     "metadata": {},
     "output_type": "display_data"
    }
   ],
   "source": [
    "import matplotlib.pyplot as plt\n",
    "import random\n",
    "\n",
    "r = random.randint(0, len(dataset))\n",
    "img, lbl = dataset[r]\n",
    "\n",
    "# Display the image\n",
    "plt.imshow(img.permute(1, 2, 0))\n",
    "plt.axis('off')\n",
    "plt.title(dataset.tensor_to_label(lbl) + \"\\nIndex: \" + str(r))\n",
    "plt.show()"
   ]
  },
  {
   "cell_type": "code",
   "execution_count": 7,
   "id": "0b06f55a",
   "metadata": {},
   "outputs": [
    {
     "data": {
      "text/plain": [
       "torch.Size([3, 64, 64])"
      ]
     },
     "execution_count": 7,
     "metadata": {},
     "output_type": "execute_result"
    }
   ],
   "source": [
    "dataset.labels[0]\n",
    "\n",
    "dataset[0][0].shape"
   ]
  },
  {
   "cell_type": "markdown",
   "id": "e1a81752",
   "metadata": {},
   "source": [
    "# Create my custom convolution model for the task"
   ]
  },
  {
   "cell_type": "code",
   "execution_count": null,
   "id": "cdc6ef13",
   "metadata": {},
   "outputs": [],
   "source": [
    "class SimpleCNN_11(nn.Module): # 83% val_acc after 30 epochs\n",
    "    def __init__(self, nb_classes):\n",
    "        super(SimpleCNN_11, self).__init__()\n",
    "        # inputs (N,3,64,64)\n",
    "        self.conv1 = nn.Conv2d(in_channels=3, out_channels=16, kernel_size=6)\n",
    "        self.relu1 = nn.ReLU()\n",
    "\n",
    "        self.conv2 = nn.Conv2d(in_channels=16, out_channels=16, kernel_size=5, padding = 2)\n",
    "        self.relu2 = nn.ReLU()\n",
    "        self.bn2 = nn.BatchNorm2d(16)\n",
    "\n",
    "        self.conv3 = nn.Conv2d(in_channels=16, out_channels=16, kernel_size=5)\n",
    "        self.relu3 = nn.ReLU()\n",
    "        self.pool3 = nn.MaxPool2d(kernel_size=2, stride=2)\n",
    "\n",
    "        self.conv4 = nn.Conv2d(in_channels=16, out_channels=16, kernel_size=5)\n",
    "        self.relu4 = nn.ReLU()\n",
    "\n",
    "        self.conv5 = nn.Conv2d(in_channels=16, out_channels=16, kernel_size=5)\n",
    "        self.relu5 = nn.ReLU()\n",
    "        self.bn5 = nn.BatchNorm2d(16)\n",
    "\n",
    "        self.conv6 = nn.Conv2d(in_channels=16, out_channels=16, kernel_size=5)\n",
    "        self.relu6 = nn.ReLU()\n",
    "        self.pool6 = nn.MaxPool2d(kernel_size=2, stride=2)\n",
    "\n",
    "\n",
    "        self.lin1  = nn.Linear(16*7*7, 128) # adapt here!\n",
    "        self.lin2  = nn.Linear(128, nb_classes)\n",
    "        \n",
    "    def forward(self, x):\n",
    "        x = self.relu1(self.conv1(x))\n",
    "        x = self.relu2(x + self.conv2(x))\n",
    "        x = self.bn2(x)\n",
    "        x = self.relu3(self.conv3(x))\n",
    "        x = self.pool3(x)\n",
    "\n",
    "        x = self.relu4(self.conv4(x))\n",
    "        x = self.relu5(self.conv5(x))\n",
    "        x = self.bn5(x)\n",
    "        x = self.relu6(self.conv6(x))\n",
    "        x = self.pool6(x) # outputs (None, 16, 7, 7)\n",
    "\n",
    "        x = self.lin1(x.view(-1, 16*7*7))  # adapt here!\n",
    "        x = self.lin2(x)\n",
    "\n",
    "        return x"
   ]
  },
  {
   "cell_type": "code",
   "execution_count": 93,
   "id": "609bc17e",
   "metadata": {},
   "outputs": [],
   "source": [
    "class SimpleCNN12(nn.Module):\n",
    "    def __init__(self, nb_classes):\n",
    "        super(SimpleCNN12, self).__init__()\n",
    "        # inputs (N,3,64,64)\n",
    "        # Follows ResNET architecture: Conv2d -> BN -> ReLU (-> MaxPool)\n",
    "        self.conv1 = nn.Conv2d(in_channels=3, out_channels=16, kernel_size=6, padding=2)\n",
    "        self.bn1   = nn.BatchNorm2d(16)\n",
    "        self.relu1 = nn.ReLU()\n",
    "        # no pooling in 1st step\n",
    "\n",
    "        self.conv2 = nn.Conv2d(in_channels=16, out_channels=16, kernel_size=5, padding=2)\n",
    "        self.bn2   = nn.BatchNorm2d(16)\n",
    "        self.relu2 = nn.ReLU()\n",
    "        self.pool2 = nn.MaxPool2d(kernel_size=2, stride=2)\n",
    "\n",
    "        self.conv3 = nn.Conv2d(in_channels=16, out_channels=16, kernel_size=5, padding=2)\n",
    "        self.bn3   = nn.BatchNorm2d(16)\n",
    "        self.relu3 = nn.ReLU()\n",
    "        # no pooling in 3rd step\n",
    "\n",
    "\n",
    "        self.conv4 = nn.Conv2d(in_channels=16, out_channels=16, kernel_size=5, padding=2)\n",
    "        self.bn4   = nn.BatchNorm2d(16)\n",
    "        self.relu4 = nn.ReLU()\n",
    "        self.pool4 = nn.MaxPool2d(kernel_size=2, stride=2)\n",
    "\n",
    "\n",
    "\n",
    "        self.lin1  = nn.Linear(16*15*15, nb_classes) # adapt here!\n",
    "\n",
    "        \n",
    "    def forward(self, x):\n",
    "        x = self.conv1(x)\n",
    "        x = self.bn1(x)\n",
    "        x = self.relu1(x)\n",
    "        \n",
    "        x = x + self.conv2(x)\n",
    "        x = self.bn2(x)\n",
    "        x = self.relu2(x)\n",
    "        x = self.pool2(x)\n",
    "\n",
    "        x = x + self.conv3(x)\n",
    "        x = self.bn3(x)\n",
    "        x = self.relu3(x)\n",
    "\n",
    "        x = x + self.conv4(x)\n",
    "        x = self.bn4(x)\n",
    "        x = self.relu4(x)\n",
    "        x = self.pool4(x)\n",
    "        # outputs (None, 16, 15, 15)\n",
    "\n",
    "        x = self.lin1(x.view(-1, 16*15*15))  # adapt here!\n",
    "\n",
    "\n",
    "        return x\n"
   ]
  },
  {
   "cell_type": "code",
   "execution_count": 94,
   "id": "b01bebee",
   "metadata": {},
   "outputs": [],
   "source": [
    "def get_model(nb_classes):\n",
    "    return SimpleCNN12(nb_classes)"
   ]
  },
  {
   "cell_type": "code",
   "execution_count": 95,
   "id": "6f3b2e73",
   "metadata": {},
   "outputs": [
    {
     "data": {
      "text/plain": [
       "torch.Size([42, 10])"
      ]
     },
     "execution_count": 95,
     "metadata": {},
     "output_type": "execute_result"
    }
   ],
   "source": [
    "# Create a dummy image to test input of the network\n",
    "dummy_img = torch.zeros(42, 3, 64, 64)\n",
    "model = get_model(len(dataset.classes))\n",
    "model(dummy_img).shape"
   ]
  },
  {
   "cell_type": "markdown",
   "id": "55d82760",
   "metadata": {},
   "source": [
    "### Initialize the model and dataloader"
   ]
  },
  {
   "cell_type": "code",
   "execution_count": 96,
   "id": "6b095176",
   "metadata": {},
   "outputs": [
    {
     "data": {
      "text/plain": [
       "' from sklearn.model_selection import train_test_split\\n\\n# Split dataset into training and validation sets\\nX_train, X_val, y_train, y_val = train_test_split(X, y, test_size=0.2, random_state=42)\\n\\n# Create data loaders for training and validation sets\\ntrain_dataset = MyDataset(X_train, y_train)\\nval_dataset = MyDataset(X_val, y_val)\\ntrain_loader = DataLoader(train_dataset, batch_size=batch_size, shuffle=True)\\nval_loader = DataLoader(val_dataset, batch_size=batch_size, shuffle=False) '"
      ]
     },
     "execution_count": 96,
     "metadata": {},
     "output_type": "execute_result"
    }
   ],
   "source": [
    "\"\"\" from sklearn.model_selection import train_test_split\n",
    "\n",
    "# Split dataset into training and validation sets\n",
    "X_train, X_val, y_train, y_val = train_test_split(X, y, test_size=0.2, random_state=42)\n",
    "\n",
    "# Create data loaders for training and validation sets\n",
    "train_dataset = MyDataset(X_train, y_train)\n",
    "val_dataset = MyDataset(X_val, y_val)\n",
    "train_loader = DataLoader(train_dataset, batch_size=batch_size, shuffle=True)\n",
    "val_loader = DataLoader(val_dataset, batch_size=batch_size, shuffle=False) \"\"\""
   ]
  },
  {
   "cell_type": "code",
   "execution_count": 97,
   "id": "37dce276",
   "metadata": {},
   "outputs": [
    {
     "name": "stdout",
     "output_type": "stream",
     "text": [
      "Feature batch shape: torch.Size([50, 3, 64, 64])\n",
      "Labels batch shape: torch.Size([50, 10])\n",
      "torch.Size([20, 10])\n"
     ]
    },
    {
     "data": {
      "text/plain": [
       "=================================================================\n",
       "Layer (type:depth-idx)                   Param #\n",
       "=================================================================\n",
       "SimpleCNN12                              --\n",
       "├─Conv2d: 1-1                            1,744\n",
       "├─BatchNorm2d: 1-2                       32\n",
       "├─ReLU: 1-3                              --\n",
       "├─Conv2d: 1-4                            6,416\n",
       "├─BatchNorm2d: 1-5                       32\n",
       "├─ReLU: 1-6                              --\n",
       "├─MaxPool2d: 1-7                         --\n",
       "├─Conv2d: 1-8                            6,416\n",
       "├─BatchNorm2d: 1-9                       32\n",
       "├─ReLU: 1-10                             --\n",
       "├─Conv2d: 1-11                           6,416\n",
       "├─BatchNorm2d: 1-12                      32\n",
       "├─ReLU: 1-13                             --\n",
       "├─MaxPool2d: 1-14                        --\n",
       "├─Linear: 1-15                           36,010\n",
       "=================================================================\n",
       "Total params: 57,130\n",
       "Trainable params: 57,130\n",
       "Non-trainable params: 0\n",
       "================================================================="
      ]
     },
     "execution_count": 97,
     "metadata": {},
     "output_type": "execute_result"
    }
   ],
   "source": [
    "# Create training and validation datasets\n",
    "from torch.utils.data import random_split\n",
    "\n",
    "batch_size = 50\n",
    "train_size = int(0.8 * len(dataset))\n",
    "val_size = len(dataset) - train_size\n",
    "train_dataset, val_dataset = random_split(dataset, [train_size, val_size])\n",
    "\n",
    "# Create data loaders for training and validation sets\n",
    "train_loader = DataLoader(train_dataset, batch_size=batch_size, shuffle=True)\n",
    "val_loader = DataLoader(val_dataset, batch_size=batch_size, shuffle=False)\n",
    "\n",
    "data_loader = DataLoader(dataset, batch_size=50, shuffle=True)\n",
    "\n",
    "train_features, train_labels = next(iter(data_loader))\n",
    "print(f\"Feature batch shape: {train_features.size()}\")\n",
    "print(f\"Labels batch shape: {train_labels.size()}\")\n",
    "\n",
    "\n",
    "num_classes = len(dataset.classes)\n",
    "model = get_model(num_classes) # define the model\n",
    "# model.load_state_dict(torch.load(\"best_model.pt\"))\n",
    "\n",
    "\n",
    "criterion = torch.nn.CrossEntropyLoss()\n",
    "optimizer = torch.optim.SGD(model.parameters(), lr=0.001, momentum=0.9)\n",
    "\n",
    "\n",
    "image = torch.randn(20, 3, 64, 64) # create dummy image\n",
    "output = model(image)\n",
    "\n",
    "print(model(image).shape) # show the output of one batch of images\n",
    "\n",
    "from torchinfo import summary\n",
    "summary(model) # display summary of the model and number of trainable parameters"
   ]
  },
  {
   "cell_type": "markdown",
   "id": "520830e6",
   "metadata": {},
   "source": [
    "### Send the model to the GPU"
   ]
  },
  {
   "cell_type": "code",
   "execution_count": 98,
   "id": "76203502",
   "metadata": {},
   "outputs": [
    {
     "data": {
      "text/plain": [
       "SimpleCNN12(\n",
       "  (conv1): Conv2d(3, 16, kernel_size=(6, 6), stride=(1, 1), padding=(2, 2))\n",
       "  (bn1): BatchNorm2d(16, eps=1e-05, momentum=0.1, affine=True, track_running_stats=True)\n",
       "  (relu1): ReLU()\n",
       "  (conv2): Conv2d(16, 16, kernel_size=(5, 5), stride=(1, 1), padding=(2, 2))\n",
       "  (bn2): BatchNorm2d(16, eps=1e-05, momentum=0.1, affine=True, track_running_stats=True)\n",
       "  (relu2): ReLU()\n",
       "  (pool2): MaxPool2d(kernel_size=2, stride=2, padding=0, dilation=1, ceil_mode=False)\n",
       "  (conv3): Conv2d(16, 16, kernel_size=(5, 5), stride=(1, 1), padding=(2, 2))\n",
       "  (bn3): BatchNorm2d(16, eps=1e-05, momentum=0.1, affine=True, track_running_stats=True)\n",
       "  (relu3): ReLU()\n",
       "  (conv4): Conv2d(16, 16, kernel_size=(5, 5), stride=(1, 1), padding=(2, 2))\n",
       "  (bn4): BatchNorm2d(16, eps=1e-05, momentum=0.1, affine=True, track_running_stats=True)\n",
       "  (relu4): ReLU()\n",
       "  (pool4): MaxPool2d(kernel_size=2, stride=2, padding=0, dilation=1, ceil_mode=False)\n",
       "  (lin1): Linear(in_features=3600, out_features=10, bias=True)\n",
       ")"
      ]
     },
     "execution_count": 98,
     "metadata": {},
     "output_type": "execute_result"
    }
   ],
   "source": [
    "device = torch.device(\"cuda\" if torch.cuda.is_available() else \"cpu\")\n",
    "model.to(device)"
   ]
  },
  {
   "cell_type": "markdown",
   "id": "99a8b5dc",
   "metadata": {},
   "source": [
    "### Define the training function"
   ]
  },
  {
   "cell_type": "code",
   "execution_count": 99,
   "id": "bbb08e18",
   "metadata": {},
   "outputs": [],
   "source": [
    "def train(model, train_loader, val_loader, loss_fn, optimizer, device, num_epochs):\n",
    "    train_losses = []\n",
    "    train_accs = []\n",
    "    val_losses = []\n",
    "    val_accs = []\n",
    "    best_val_acc = 0.0\n",
    "    for epoch in range(num_epochs):\n",
    "        # Training\n",
    "        running_loss = 0.0\n",
    "        correct = 0\n",
    "        total = 0\n",
    "        for batch, (X, y) in enumerate(train_loader):\n",
    "            # Move tensors to the configured device\n",
    "            X, y = X.to(device), y.to(device)\n",
    "\n",
    "            optimizer.zero_grad()\n",
    "\n",
    "            # Compute prediction and loss\n",
    "            pred = model(X)\n",
    "\n",
    "            # Compute loss and its gradients\n",
    "            loss = loss_fn(pred, y)\n",
    "            loss.backward()\n",
    "            \n",
    "\n",
    "            # Backpropagation step\n",
    "            optimizer.step()\n",
    "\n",
    "            running_loss += loss.item()\n",
    "            _, predicted = torch.max(pred.data, 1)\n",
    "            total += y.size(0)\n",
    "            correct += (predicted == y.argmax(1)).sum().item()\n",
    "\n",
    "            # Display progress\n",
    "            if batch % 30 == 0:\n",
    "                loss, current = loss.item(), batch * len(X)\n",
    "                print(f\"Epoch {epoch+1}, batch {batch+1}/{len(train_loader)}, loss: {loss:.4f}\")\n",
    "        \n",
    "        train_loss = running_loss / len(train_loader)\n",
    "        train_acc = 100 * correct / total\n",
    "\n",
    "        train_losses.append(train_loss)\n",
    "        train_accs.append(train_acc)\n",
    "        print(f\"Epoch {epoch+1}, train loss: {train_loss:.4f}, train accuracy: {train_acc:.2f}%\")\n",
    "\n",
    "        # Validation\n",
    "\n",
    "        running_loss = 0.0\n",
    "        correct = 0\n",
    "        total = 0\n",
    "        with torch.no_grad():\n",
    "            for batch, (X, y) in enumerate(val_loader):\n",
    "                X, y = X.to(device), y.to(device)\n",
    "                pred = model(X)\n",
    "                loss = loss_fn(pred, y)\n",
    "                running_loss += loss.item()\n",
    "                _, predicted = torch.max(pred.data, 1)\n",
    "                total += y.size(0)\n",
    "                correct += (predicted == y.argmax(1)).sum().item()\n",
    "            val_loss = running_loss / len(val_loader)\n",
    "            val_acc = 100 * correct / total\n",
    "            val_losses.append(val_loss)\n",
    "            val_accs.append(val_acc)\n",
    "            print(f\"Epoch {epoch+1}, val loss: {val_loss:.4f}, val accuracy: {val_acc:.2f}%\")\n",
    "        \n",
    "            # # Save best model\n",
    "            # if val_acc > best_val_acc:\n",
    "            #     best_val_acc = val_acc\n",
    "            #     torch.save(model.state_dict(), \"best_model.pt\")\n",
    "\n",
    "    return train_losses, train_accs, val_losses, val_accs\n",
    "\n"
   ]
  },
  {
   "cell_type": "code",
   "execution_count": 100,
   "id": "f224c264",
   "metadata": {},
   "outputs": [
    {
     "name": "stdout",
     "output_type": "stream",
     "text": [
      "Epoch 1, batch 1/185, loss: 2.4545\n"
     ]
    },
    {
     "name": "stdout",
     "output_type": "stream",
     "text": [
      "Epoch 1, batch 31/185, loss: 1.4883\n",
      "Epoch 1, batch 61/185, loss: 1.2766\n",
      "Epoch 1, batch 91/185, loss: 1.0548\n",
      "Epoch 1, batch 121/185, loss: 0.9032\n",
      "Epoch 1, batch 151/185, loss: 0.7817\n",
      "Epoch 1, batch 181/185, loss: 0.8054\n",
      "Epoch 1, train loss: 1.1783, train accuracy: 58.05%\n",
      "Epoch 1, val loss: 0.8279, val accuracy: 71.35%\n",
      "Epoch 2, batch 1/185, loss: 0.5670\n",
      "Epoch 2, batch 31/185, loss: 0.6374\n",
      "Epoch 2, batch 61/185, loss: 0.6694\n",
      "Epoch 2, batch 91/185, loss: 0.5544\n",
      "Epoch 2, batch 121/185, loss: 0.4827\n",
      "Epoch 2, batch 151/185, loss: 0.5471\n",
      "Epoch 2, batch 181/185, loss: 0.5393\n",
      "Epoch 2, train loss: 0.7443, train accuracy: 74.67%\n",
      "Epoch 2, val loss: 0.7248, val accuracy: 75.30%\n",
      "Epoch 3, batch 1/185, loss: 0.6138\n",
      "Epoch 3, batch 31/185, loss: 0.5256\n",
      "Epoch 3, batch 61/185, loss: 0.7437\n",
      "Epoch 3, batch 91/185, loss: 0.3931\n",
      "Epoch 3, batch 121/185, loss: 0.7034\n",
      "Epoch 3, batch 151/185, loss: 0.6978\n",
      "Epoch 3, batch 181/185, loss: 0.4634\n",
      "Epoch 3, train loss: 0.6055, train accuracy: 79.16%\n",
      "Epoch 3, val loss: 0.6921, val accuracy: 75.13%\n",
      "Epoch 4, batch 1/185, loss: 0.6691\n",
      "Epoch 4, batch 31/185, loss: 0.4589\n",
      "Epoch 4, batch 61/185, loss: 0.5855\n",
      "Epoch 4, batch 91/185, loss: 0.5078\n",
      "Epoch 4, batch 121/185, loss: 0.5760\n",
      "Epoch 4, batch 151/185, loss: 0.4939\n",
      "Epoch 4, batch 181/185, loss: 0.4486\n",
      "Epoch 4, train loss: 0.5197, train accuracy: 81.65%\n",
      "Epoch 4, val loss: 0.6294, val accuracy: 77.39%\n",
      "Epoch 5, batch 1/185, loss: 0.4401\n",
      "Epoch 5, batch 31/185, loss: 0.2551\n",
      "Epoch 5, batch 61/185, loss: 0.2179\n",
      "Epoch 5, batch 91/185, loss: 0.5461\n",
      "Epoch 5, batch 121/185, loss: 0.3052\n",
      "Epoch 5, batch 151/185, loss: 0.6107\n",
      "Epoch 5, batch 181/185, loss: 0.7490\n",
      "Epoch 5, train loss: 0.4489, train accuracy: 84.18%\n",
      "Epoch 5, val loss: 0.6214, val accuracy: 77.95%\n",
      "Epoch 6, batch 1/185, loss: 0.2962\n",
      "Epoch 6, batch 31/185, loss: 0.4076\n",
      "Epoch 6, batch 61/185, loss: 0.3378\n",
      "Epoch 6, batch 91/185, loss: 0.3611\n",
      "Epoch 6, batch 121/185, loss: 0.2913\n",
      "Epoch 6, batch 151/185, loss: 0.3925\n",
      "Epoch 6, batch 181/185, loss: 0.3215\n",
      "Epoch 6, train loss: 0.4195, train accuracy: 85.77%\n",
      "Epoch 6, val loss: 0.6039, val accuracy: 78.30%\n",
      "Epoch 7, batch 1/185, loss: 0.2601\n",
      "Epoch 7, batch 31/185, loss: 0.3865\n",
      "Epoch 7, batch 61/185, loss: 0.1498\n",
      "Epoch 7, batch 91/185, loss: 0.3456\n",
      "Epoch 7, batch 121/185, loss: 0.3449\n",
      "Epoch 7, batch 151/185, loss: 0.2969\n",
      "Epoch 7, batch 181/185, loss: 0.4940\n",
      "Epoch 7, train loss: 0.3433, train accuracy: 88.20%\n",
      "Epoch 7, val loss: 0.5792, val accuracy: 79.86%\n",
      "Epoch 8, batch 1/185, loss: 0.3697\n",
      "Epoch 8, batch 31/185, loss: 0.2068\n",
      "Epoch 8, batch 61/185, loss: 0.1613\n",
      "Epoch 8, batch 91/185, loss: 0.5222\n",
      "Epoch 8, batch 121/185, loss: 0.2650\n",
      "Epoch 8, batch 151/185, loss: 0.1733\n",
      "Epoch 8, batch 181/185, loss: 0.4090\n",
      "Epoch 8, train loss: 0.3044, train accuracy: 90.09%\n",
      "Epoch 8, val loss: 0.5706, val accuracy: 80.08%\n",
      "Epoch 9, batch 1/185, loss: 0.4013\n",
      "Epoch 9, batch 31/185, loss: 0.1662\n",
      "Epoch 9, batch 61/185, loss: 0.2602\n",
      "Epoch 9, batch 91/185, loss: 0.2232\n",
      "Epoch 9, batch 121/185, loss: 0.1982\n",
      "Epoch 9, batch 151/185, loss: 0.2162\n",
      "Epoch 9, batch 181/185, loss: 0.2783\n",
      "Epoch 9, train loss: 0.2733, train accuracy: 90.72%\n",
      "Epoch 9, val loss: 0.5526, val accuracy: 81.42%\n",
      "Epoch 10, batch 1/185, loss: 0.2655\n",
      "Epoch 10, batch 31/185, loss: 0.2255\n",
      "Epoch 10, batch 61/185, loss: 0.1115\n",
      "Epoch 10, batch 91/185, loss: 0.2566\n",
      "Epoch 10, batch 121/185, loss: 0.2395\n",
      "Epoch 10, batch 151/185, loss: 0.1698\n",
      "Epoch 10, batch 181/185, loss: 0.3678\n",
      "Epoch 10, train loss: 0.2366, train accuracy: 92.19%\n",
      "Epoch 10, val loss: 0.5685, val accuracy: 80.99%\n",
      "Epoch 11, batch 1/185, loss: 0.1957\n",
      "Epoch 11, batch 31/185, loss: 0.0725\n",
      "Epoch 11, batch 61/185, loss: 0.1564\n",
      "Epoch 11, batch 91/185, loss: 0.2445\n",
      "Epoch 11, batch 121/185, loss: 0.3641\n",
      "Epoch 11, batch 151/185, loss: 0.1996\n",
      "Epoch 11, batch 181/185, loss: 0.5143\n",
      "Epoch 11, train loss: 0.2104, train accuracy: 93.42%\n",
      "Epoch 11, val loss: 0.5249, val accuracy: 82.29%\n",
      "Epoch 12, batch 1/185, loss: 0.0971\n",
      "Epoch 12, batch 31/185, loss: 0.2081\n",
      "Epoch 12, batch 61/185, loss: 0.2067\n",
      "Epoch 12, batch 91/185, loss: 0.2955\n",
      "Epoch 12, batch 121/185, loss: 0.2688\n",
      "Epoch 12, batch 151/185, loss: 0.1134\n",
      "Epoch 12, batch 181/185, loss: 0.1452\n",
      "Epoch 12, train loss: 0.1921, train accuracy: 94.16%\n",
      "Epoch 12, val loss: 0.5412, val accuracy: 81.86%\n",
      "Epoch 13, batch 1/185, loss: 0.2136\n",
      "Epoch 13, batch 31/185, loss: 0.1764\n",
      "Epoch 13, batch 61/185, loss: 0.1957\n",
      "Epoch 13, batch 91/185, loss: 0.2479\n",
      "Epoch 13, batch 121/185, loss: 0.2948\n",
      "Epoch 13, batch 151/185, loss: 0.0981\n",
      "Epoch 13, batch 181/185, loss: 0.1539\n",
      "Epoch 13, train loss: 0.1680, train accuracy: 95.00%\n",
      "Epoch 13, val loss: 0.5319, val accuracy: 82.73%\n",
      "Epoch 14, batch 1/185, loss: 0.0769\n",
      "Epoch 14, batch 31/185, loss: 0.2498\n",
      "Epoch 14, batch 61/185, loss: 0.0698\n",
      "Epoch 14, batch 91/185, loss: 0.0817\n",
      "Epoch 14, batch 121/185, loss: 0.2100\n",
      "Epoch 14, batch 151/185, loss: 0.1047\n",
      "Epoch 14, batch 181/185, loss: 0.1050\n",
      "Epoch 14, train loss: 0.1579, train accuracy: 95.27%\n",
      "Epoch 14, val loss: 0.5925, val accuracy: 81.21%\n",
      "Epoch 15, batch 1/185, loss: 0.1966\n",
      "Epoch 15, batch 31/185, loss: 0.1442\n",
      "Epoch 15, batch 61/185, loss: 0.1012\n",
      "Epoch 15, batch 91/185, loss: 0.0664\n",
      "Epoch 15, batch 121/185, loss: 0.1249\n",
      "Epoch 15, batch 151/185, loss: 0.1671\n",
      "Epoch 15, batch 181/185, loss: 0.0928\n",
      "Epoch 15, train loss: 0.1437, train accuracy: 95.84%\n",
      "Epoch 15, val loss: 0.5377, val accuracy: 82.51%\n",
      "Epoch 16, batch 1/185, loss: 0.0920\n",
      "Epoch 16, batch 31/185, loss: 0.0590\n",
      "Epoch 16, batch 61/185, loss: 0.1467\n",
      "Epoch 16, batch 91/185, loss: 0.1150\n",
      "Epoch 16, batch 121/185, loss: 0.1040\n",
      "Epoch 16, batch 151/185, loss: 0.1301\n",
      "Epoch 16, batch 181/185, loss: 0.1693\n",
      "Epoch 16, train loss: 0.1218, train accuracy: 96.68%\n",
      "Epoch 16, val loss: 0.5257, val accuracy: 82.94%\n",
      "Epoch 17, batch 1/185, loss: 0.0988\n",
      "Epoch 17, batch 31/185, loss: 0.1199\n",
      "Epoch 17, batch 61/185, loss: 0.0672\n",
      "Epoch 17, batch 91/185, loss: 0.1385\n",
      "Epoch 17, batch 121/185, loss: 0.2349\n",
      "Epoch 17, batch 151/185, loss: 0.1140\n",
      "Epoch 17, batch 181/185, loss: 0.1656\n",
      "Epoch 17, train loss: 0.1141, train accuracy: 97.02%\n",
      "Epoch 17, val loss: 0.5218, val accuracy: 82.86%\n",
      "Epoch 18, batch 1/185, loss: 0.0932\n",
      "Epoch 18, batch 31/185, loss: 0.1112\n",
      "Epoch 18, batch 61/185, loss: 0.2304\n",
      "Epoch 18, batch 91/185, loss: 0.0574\n",
      "Epoch 18, batch 121/185, loss: 0.1021\n",
      "Epoch 18, batch 151/185, loss: 0.1159\n",
      "Epoch 18, batch 181/185, loss: 0.0614\n",
      "Epoch 18, train loss: 0.1051, train accuracy: 97.38%\n",
      "Epoch 18, val loss: 0.5242, val accuracy: 83.25%\n",
      "Epoch 19, batch 1/185, loss: 0.0739\n",
      "Epoch 19, batch 31/185, loss: 0.1526\n",
      "Epoch 19, batch 61/185, loss: 0.1241\n",
      "Epoch 19, batch 91/185, loss: 0.1477\n",
      "Epoch 19, batch 121/185, loss: 0.1842\n",
      "Epoch 19, batch 151/185, loss: 0.0781\n",
      "Epoch 19, batch 181/185, loss: 0.0704\n",
      "Epoch 19, train loss: 0.0941, train accuracy: 97.54%\n",
      "Epoch 19, val loss: 0.6530, val accuracy: 81.16%\n",
      "Epoch 20, batch 1/185, loss: 0.1269\n",
      "Epoch 20, batch 31/185, loss: 0.0485\n",
      "Epoch 20, batch 61/185, loss: 0.1874\n",
      "Epoch 20, batch 91/185, loss: 0.0329\n",
      "Epoch 20, batch 121/185, loss: 0.1423\n",
      "Epoch 20, batch 151/185, loss: 0.0553\n",
      "Epoch 20, batch 181/185, loss: 0.1461\n",
      "Epoch 20, train loss: 0.0865, train accuracy: 97.95%\n",
      "Epoch 20, val loss: 0.5443, val accuracy: 83.16%\n",
      "Epoch 21, batch 1/185, loss: 0.0907\n",
      "Epoch 21, batch 31/185, loss: 0.1046\n",
      "Epoch 21, batch 61/185, loss: 0.0568\n",
      "Epoch 21, batch 91/185, loss: 0.0856\n",
      "Epoch 21, batch 121/185, loss: 0.0731\n",
      "Epoch 21, batch 151/185, loss: 0.0236\n",
      "Epoch 21, batch 181/185, loss: 0.0820\n",
      "Epoch 21, train loss: 0.0708, train accuracy: 98.48%\n",
      "Epoch 21, val loss: 0.5429, val accuracy: 83.98%\n",
      "Epoch 22, batch 1/185, loss: 0.0539\n",
      "Epoch 22, batch 31/185, loss: 0.0733\n",
      "Epoch 22, batch 61/185, loss: 0.0727\n",
      "Epoch 22, batch 91/185, loss: 0.0784\n",
      "Epoch 22, batch 121/185, loss: 0.0422\n",
      "Epoch 22, batch 151/185, loss: 0.0330\n",
      "Epoch 22, batch 181/185, loss: 0.0333\n",
      "Epoch 22, train loss: 0.0659, train accuracy: 98.71%\n",
      "Epoch 22, val loss: 0.5472, val accuracy: 83.25%\n",
      "Epoch 23, batch 1/185, loss: 0.0688\n",
      "Epoch 23, batch 31/185, loss: 0.1054\n",
      "Epoch 23, batch 61/185, loss: 0.0440\n",
      "Epoch 23, batch 91/185, loss: 0.0462\n",
      "Epoch 23, batch 121/185, loss: 0.1349\n",
      "Epoch 23, batch 151/185, loss: 0.0553\n",
      "Epoch 23, batch 181/185, loss: 0.0276\n",
      "Epoch 23, train loss: 0.0655, train accuracy: 98.68%\n",
      "Epoch 23, val loss: 0.5443, val accuracy: 83.81%\n",
      "Epoch 24, batch 1/185, loss: 0.0828\n",
      "Epoch 24, batch 31/185, loss: 0.0283\n",
      "Epoch 24, batch 61/185, loss: 0.0406\n",
      "Epoch 24, batch 91/185, loss: 0.1177\n",
      "Epoch 24, batch 121/185, loss: 0.0325\n",
      "Epoch 24, batch 151/185, loss: 0.0222\n",
      "Epoch 24, batch 181/185, loss: 0.1074\n",
      "Epoch 24, train loss: 0.0593, train accuracy: 98.82%\n",
      "Epoch 24, val loss: 0.5498, val accuracy: 83.77%\n",
      "Epoch 25, batch 1/185, loss: 0.0383\n",
      "Epoch 25, batch 31/185, loss: 0.0227\n",
      "Epoch 25, batch 61/185, loss: 0.0386\n",
      "Epoch 25, batch 91/185, loss: 0.0390\n",
      "Epoch 25, batch 121/185, loss: 0.0398\n",
      "Epoch 25, batch 151/185, loss: 0.0544\n",
      "Epoch 25, batch 181/185, loss: 0.0501\n",
      "Epoch 25, train loss: 0.0541, train accuracy: 98.97%\n",
      "Epoch 25, val loss: 0.5924, val accuracy: 83.16%\n",
      "Epoch 26, batch 1/185, loss: 0.0219\n",
      "Epoch 26, batch 31/185, loss: 0.0442\n",
      "Epoch 26, batch 61/185, loss: 0.0408\n",
      "Epoch 26, batch 91/185, loss: 0.0194\n",
      "Epoch 26, batch 121/185, loss: 0.1047\n",
      "Epoch 26, batch 151/185, loss: 0.0721\n",
      "Epoch 26, batch 181/185, loss: 0.0784\n",
      "Epoch 26, train loss: 0.0545, train accuracy: 98.75%\n",
      "Epoch 26, val loss: 0.5535, val accuracy: 83.20%\n",
      "Epoch 27, batch 1/185, loss: 0.0201\n",
      "Epoch 27, batch 31/185, loss: 0.0374\n",
      "Epoch 27, batch 61/185, loss: 0.0353\n",
      "Epoch 27, batch 91/185, loss: 0.0229\n",
      "Epoch 27, batch 121/185, loss: 0.0398\n",
      "Epoch 27, batch 151/185, loss: 0.0510\n",
      "Epoch 27, batch 181/185, loss: 0.0327\n",
      "Epoch 27, train loss: 0.0506, train accuracy: 98.88%\n",
      "Epoch 27, val loss: 0.6700, val accuracy: 81.73%\n",
      "Epoch 28, batch 1/185, loss: 0.0391\n",
      "Epoch 28, batch 31/185, loss: 0.0273\n",
      "Epoch 28, batch 61/185, loss: 0.0759\n",
      "Epoch 28, batch 91/185, loss: 0.0979\n",
      "Epoch 28, batch 121/185, loss: 0.0402\n",
      "Epoch 28, batch 151/185, loss: 0.0527\n",
      "Epoch 28, batch 181/185, loss: 0.0305\n",
      "Epoch 28, train loss: 0.0501, train accuracy: 98.94%\n",
      "Epoch 28, val loss: 0.5889, val accuracy: 83.38%\n",
      "Epoch 29, batch 1/185, loss: 0.0656\n",
      "Epoch 29, batch 31/185, loss: 0.0421\n",
      "Epoch 29, batch 61/185, loss: 0.0508\n",
      "Epoch 29, batch 91/185, loss: 0.0272\n",
      "Epoch 29, batch 121/185, loss: 0.0333\n",
      "Epoch 29, batch 151/185, loss: 0.0850\n",
      "Epoch 29, batch 181/185, loss: 0.0199\n",
      "Epoch 29, train loss: 0.0426, train accuracy: 99.14%\n",
      "Epoch 29, val loss: 0.5933, val accuracy: 82.47%\n",
      "Epoch 30, batch 1/185, loss: 0.0312\n",
      "Epoch 30, batch 31/185, loss: 0.0551\n",
      "Epoch 30, batch 61/185, loss: 0.0322\n",
      "Epoch 30, batch 91/185, loss: 0.0343\n",
      "Epoch 30, batch 121/185, loss: 0.0283\n",
      "Epoch 30, batch 151/185, loss: 0.0167\n",
      "Epoch 30, batch 181/185, loss: 0.0968\n",
      "Epoch 30, train loss: 0.0415, train accuracy: 99.23%\n",
      "Epoch 30, val loss: 0.6014, val accuracy: 82.99%\n"
     ]
    }
   ],
   "source": [
    "train_losses, train_accs, val_losses, val_accs = train(model, train_loader, val_loader, criterion, optimizer, device, num_epochs=30)"
   ]
  },
  {
   "cell_type": "code",
   "execution_count": null,
   "id": "61b66e7f",
   "metadata": {},
   "outputs": [],
   "source": [
    "torch.save(model.state_dict(), \"best_model.pt\")"
   ]
  },
  {
   "cell_type": "code",
   "execution_count": 75,
   "id": "e8a4296c",
   "metadata": {},
   "outputs": [],
   "source": [
    "import matplotlib.pyplot as plt\n",
    "\n",
    "def plot_loss_accuracy2(train_losses, val_losses, train_accs, val_accs):\n",
    "    # Create figure and axes\n",
    "    fig, ax1 = plt.subplots(figsize=(8, 4))\n",
    "    ax2 = ax1.twinx()\n",
    "\n",
    "    # Plot loss curves\n",
    "    ax1.plot(train_losses, label=\"Training Loss\", color=\"blue\")\n",
    "    ax1.plot(val_losses, label=\"Validation Loss\", color=\"orange\")\n",
    "    ax1.set_ylabel(\"Loss\")\n",
    "    ax1.legend(loc=\"upper left\")\n",
    "\n",
    "    # Plot accuracy curves\n",
    "    ax2.plot(train_accs, label=\"Training Accuracy\", color=\"green\")\n",
    "    ax2.plot(val_accs, label=\"Validation Accuracy\", color=\"red\")\n",
    "    ax2.set_ylabel(\"Accuracy (%)\")\n",
    "    ax2.legend(loc=\"upper right\")\n",
    "\n",
    "    # Set common x-axis label and grid\n",
    "    ax1.set_xlabel(\"Epoch\")\n",
    "    ax1.grid()\n",
    "\n",
    "    plt.show()"
   ]
  },
  {
   "cell_type": "code",
   "execution_count": 101,
   "id": "b983a7d0-4506-4a87-90b5-3713e6c088b0",
   "metadata": {},
   "outputs": [
    {
     "data": {
      "image/png": "[encoded data removed]",
      "text/plain": [
       "<Figure size 800x400 with 2 Axes>"
      ]
     },
     "metadata": {},
     "output_type": "display_data"
    }
   ],
   "source": [
    "plot_loss_accuracy2(train_losses, val_losses, train_accs, val_accs)"
   ]
  },
  {
   "cell_type": "code",
   "execution_count": null,
   "id": "d55958b1",
   "metadata": {},
   "outputs": [],
   "source": []
  }
 ],
 "metadata": {
  "kernelspec": {
   "display_name": "Python 3 (ipykernel)",
   "language": "python",
   "name": "python3"
  },
  "language_info": {
   "codemirror_mode": {
    "name": "ipython",
    "version": 3
   },
   "file_extension": ".py",
   "mimetype": "text/x-python",
   "name": "python",
   "nbconvert_exporter": "python",
   "pygments_lexer": "ipython3",
   "version": "3.8.16"
  }
 },
 "nbformat": 4,
 "nbformat_minor": 5
}
