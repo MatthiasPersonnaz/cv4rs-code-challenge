{
 "cells": [
  {
   "cell_type": "markdown",
   "id": "2617147a-5efd-4572-9ac0-6b48d1269fa3",
   "metadata": {},
   "source": [
    "## Data loading\n",
    "\n",
    "To work with any kind of data we first have to load it. For this we use a dataloader that reads the images as well as their labels and transforms them into pytorch readable tensors."
   ]
  },
  {
   "cell_type": "code",
   "execution_count": 17,
   "id": "7d80171d",
   "metadata": {},
   "outputs": [],
   "source": [
    "import pathlib\n",
    "\n",
    "import torch\n",
    "import torch.nn as nn\n",
    "\n",
    "from torch.utils.data import Dataset, DataLoader\n",
    "from torchvision.io import read_image"
   ]
  },
  {
   "cell_type": "code",
   "execution_count": 2,
   "id": "0090711b-668a-4bab-a4d7-686081d239cb",
   "metadata": {
    "is_executing": true
   },
   "outputs": [],
   "source": [
    "class RSiMCCDataset(Dataset):\n",
    "    def __init__(self, transform=None):\n",
    "        super().__init__()\n",
    "        self.transform = transform\n",
    "        # get images\n",
    "        image_files = [x.resolve() for x in pathlib.Path(\".\").glob('data/*/*')]\n",
    "        # Image.open() has a bug, this is a workaround\n",
    "        self.images=[read_image(str(p)) for p in image_files] \n",
    "        # get labels from image path\n",
    "        labels = [x.parts[-2] for x in image_files]\n",
    "        self.classes = sorted(list(set(labels)))\n",
    "        self.labels = [self.label_to_tensor(lbl) for lbl in labels]\n",
    "\n",
    "        assert len(self.labels) == len(self.images), f\"Found {len(self.labels)} labels and {len(self.images)} images\"\n",
    "\n",
    "    def label_to_tensor(self, lbl):\n",
    "        \"\"\"\n",
    "        Converts the string label to a one-hot tensor where every entry is zero except the label which is one.\n",
    "        \n",
    "        \"\"\"\n",
    "        assert lbl in self.classes, f\"Class {lbl} not a valid class (valid classes: {self.classes})\"\n",
    "        t = torch.zeros(len(self.classes))\n",
    "        t[self.classes.index(lbl)] = 1\n",
    "        return t\n",
    "\n",
    "    def tensor_to_label(self, t):\n",
    "        \"\"\"\n",
    "        Returns the classname in string format\n",
    "        \"\"\"\n",
    "        assert len(t.shape) == 1, f\"Can only convert 1-dimensional tensors (shape of tensor: {t.shape})\"\n",
    "        assert len(t) == len(self.classes), f\"Lenght of tensor ({len(t)}) does not match number of classes ({len(classes)})\"\n",
    "        return self.classes[t.argmax()]\n",
    "\n",
    "    def __len__(self):\n",
    "        return len(self.labels)\n",
    "\n",
    "    def __getitem__(self, idx):\n",
    "        img = self.images[idx].float()/255\n",
    "        if self.transform:\n",
    "            img = self.transform(img)\n",
    "        return img, self.labels[idx]"
   ]
  },
  {
   "cell_type": "markdown",
   "id": "685aa618-6d38-4ff5-bac6-2e16f8c7a25e",
   "metadata": {},
   "source": [
    "## Examples\n",
    "Now lets load the dataset and look at some examples by just randomly loading the images and their labels"
   ]
  },
  {
   "cell_type": "code",
   "execution_count": 10,
   "id": "673f108f-b1c0-4ab8-a331-3a6d038d2cb8",
   "metadata": {},
   "outputs": [],
   "source": [
    "dataset = RSiMCCDataset()"
   ]
  },
  {
   "cell_type": "code",
   "execution_count": null,
   "id": "1d91992f",
   "metadata": {},
   "outputs": [],
   "source": []
  },
  {
   "cell_type": "code",
   "execution_count": 11,
   "id": "0e8257cf",
   "metadata": {},
   "outputs": [
    {
     "name": "stdout",
     "output_type": "stream",
     "text": [
      "The dataset consists of 11519 RGB images of shape torch.Size([3, 64, 64]) labeled in 10 classes which are AnnualCrop, Forest, HerbaceousVegetation, Highway, Industrial, Pasture, PermanentCrop, Residential, River, SeaLake\n"
     ]
    }
   ],
   "source": [
    "print(f\"The dataset consists of {len(dataset)} RGB images of shape {dataset.images[0].shape} labeled in {dataset.labels[0].shape[0]} classes which are \" + ', '.join(dataset.classes))"
   ]
  },
  {
   "cell_type": "code",
   "execution_count": 12,
   "id": "88aefed8",
   "metadata": {},
   "outputs": [
    {
     "data": {
      "text/plain": [
       "tensor([0., 0., 0., 0., 1., 0., 0., 0., 0., 0.])"
      ]
     },
     "execution_count": 12,
     "metadata": {},
     "output_type": "execute_result"
    }
   ],
   "source": [
    "dataset.labels[0]"
   ]
  },
  {
   "cell_type": "code",
   "execution_count": 13,
   "id": "429d3a99-809d-456d-b3ed-7db865d1aebc",
   "metadata": {},
   "outputs": [
    {
     "data": {
      "image/png": "[encoded data removed]",
      "text/plain": [
       "<Figure size 640x480 with 1 Axes>"
      ]
     },
     "metadata": {},
     "output_type": "display_data"
    }
   ],
   "source": [
    "import matplotlib.pyplot as plt\n",
    "import random\n",
    "\n",
    "r = random.randint(0, len(dataset))\n",
    "img, lbl = dataset[r]\n",
    "\n",
    "# Display the image\n",
    "plt.imshow(img.permute(1, 2, 0))\n",
    "plt.axis('off')\n",
    "plt.title(dataset.tensor_to_label(lbl) + \"\\nIndex: \" + str(r))\n",
    "plt.show()"
   ]
  },
  {
   "cell_type": "code",
   "execution_count": 14,
   "id": "0b06f55a",
   "metadata": {},
   "outputs": [
    {
     "data": {
      "text/plain": [
       "torch.Size([3, 64, 64])"
      ]
     },
     "execution_count": 14,
     "metadata": {},
     "output_type": "execute_result"
    }
   ],
   "source": [
    "dataset.labels[0]\n",
    "\n",
    "dataset[0][0].shape"
   ]
  },
  {
   "cell_type": "markdown",
   "id": "e1a81752",
   "metadata": {},
   "source": [
    "# Create my custom convolution model for the task"
   ]
  },
  {
   "cell_type": "code",
   "execution_count": 8,
   "id": "609bc17e",
   "metadata": {},
   "outputs": [],
   "source": [
    "class SimpleCNN(nn.Module):\n",
    "    def __init__(self, nb_classes):\n",
    "        super(SimpleCNN, self).__init__()\n",
    "        # inputs (N,3,64,64)\n",
    "        self.conv1 = nn.Conv2d(in_channels=3, out_channels=16, kernel_size=5)\n",
    "        self.relu1 = nn.ReLU()\n",
    "        self.pool1 = nn.MaxPool2d(kernel_size=2, stride=2)\n",
    "\n",
    "        self.conv2 = nn.Conv2d(in_channels=16, out_channels=16, kernel_size=5)\n",
    "        self.relu2 = nn.ReLU()\n",
    "        self.pool2 = nn.MaxPool2d(kernel_size=2, stride=2)\n",
    "\n",
    "        self.conv3 = nn.Conv2d(in_channels=16, out_channels=16, kernel_size=4)\n",
    "        self.relu3 = nn.ReLU()\n",
    "        \n",
    "        self.conv4 = nn.Conv2d(in_channels=16, out_channels=32, kernel_size=4)\n",
    "        self.relu4 = nn.ReLU()\n",
    "        self.pool4 = nn.MaxPool2d(kernel_size=2, stride=2)\n",
    "\n",
    "        self.lin1  = nn.Linear(32*3*3, 128)\n",
    "        self.lin2  = nn.Linear(128, nb_classes)\n",
    "        \n",
    "    def forward(self, x):\n",
    "        x = self.relu1(self.conv1(x))\n",
    "        x = self.pool1(x)\n",
    "\n",
    "        x = self.relu2(self.conv2(x))\n",
    "        x = self.pool2(x)\n",
    "\n",
    "        x = self.relu3(self.conv3(x))\n",
    "        x = self.relu4(self.conv4(x))\n",
    "        x = self.pool4(x)\n",
    "\n",
    "        x = self.lin1(x.view(-1, 32*3*3))\n",
    "        x = self.lin2(x)\n",
    "        return x\n",
    "\n",
    "def get_model(nb_classes):\n",
    "    return SimpleCNN(nb_classes)\n"
   ]
  },
  {
   "cell_type": "markdown",
   "id": "55d82760",
   "metadata": {},
   "source": [
    "### Initialize the model and dataloader"
   ]
  },
  {
   "cell_type": "code",
   "execution_count": 18,
   "id": "37dce276",
   "metadata": {},
   "outputs": [
    {
     "name": "stdout",
     "output_type": "stream",
     "text": [
      "Feature batch shape: torch.Size([50, 3, 64, 64])\n",
      "Labels batch shape: torch.Size([50, 10])\n",
      "torch.Size([20, 10])\n"
     ]
    },
    {
     "data": {
      "text/plain": [
       "=================================================================\n",
       "Layer (type:depth-idx)                   Param #\n",
       "=================================================================\n",
       "SimpleCNN                                --\n",
       "├─Conv2d: 1-1                            1,216\n",
       "├─ReLU: 1-2                              --\n",
       "├─MaxPool2d: 1-3                         --\n",
       "├─Conv2d: 1-4                            6,416\n",
       "├─ReLU: 1-5                              --\n",
       "├─MaxPool2d: 1-6                         --\n",
       "├─Conv2d: 1-7                            4,112\n",
       "├─ReLU: 1-8                              --\n",
       "├─Conv2d: 1-9                            8,224\n",
       "├─ReLU: 1-10                             --\n",
       "├─MaxPool2d: 1-11                        --\n",
       "├─Linear: 1-12                           36,992\n",
       "├─Linear: 1-13                           1,290\n",
       "=================================================================\n",
       "Total params: 58,250\n",
       "Trainable params: 58,250\n",
       "Non-trainable params: 0\n",
       "================================================================="
      ]
     },
     "execution_count": 18,
     "metadata": {},
     "output_type": "execute_result"
    }
   ],
   "source": [
    "# Create training and validation datasets\n",
    "from torch.utils.data import random_split\n",
    "\n",
    "batch_size = 50\n",
    "train_size = int(0.8 * len(dataset))\n",
    "val_size = len(dataset) - train_size\n",
    "train_dataset, val_dataset = random_split(dataset, [train_size, val_size])\n",
    "\n",
    "# Create data loaders for training and validation sets\n",
    "train_loader = DataLoader(train_dataset, batch_size=batch_size, shuffle=True)\n",
    "val_loader = DataLoader(val_dataset, batch_size=batch_size, shuffle=False)\n",
    "\n",
    "data_loader = DataLoader(ds, batch_size=50, shuffle=True)\n",
    "\n",
    "train_features, train_labels = next(iter(data_loader))\n",
    "print(f\"Feature batch shape: {train_features.size()}\")\n",
    "print(f\"Labels batch shape: {train_labels.size()}\")\n",
    "\n",
    "\n",
    "num_classes = len(ds.classes)\n",
    "model = get_model(num_classes)\n",
    "\n",
    "criterion = torch.nn.CrossEntropyLoss()\n",
    "optimizer = torch.optim.SGD(model.parameters(), lr=0.001, momentum=0.9)\n",
    "\n",
    "\n",
    "image = torch.randn(20, 3, 64, 64) # create dummy image\n",
    "output = model(image)\n",
    "\n",
    "print(model(image).shape) # show the output of one batch of images\n",
    "\n",
    "from torchinfo import summary\n",
    "summary(model) # display summary of the model and number of trainable parameters"
   ]
  },
  {
   "cell_type": "markdown",
   "id": "520830e6",
   "metadata": {},
   "source": [
    "### Send the model to the GPU"
   ]
  },
  {
   "cell_type": "code",
   "execution_count": 23,
   "id": "76203502",
   "metadata": {},
   "outputs": [
    {
     "data": {
      "text/plain": [
       "SimpleCNN(\n",
       "  (conv1): Conv2d(3, 16, kernel_size=(5, 5), stride=(1, 1))\n",
       "  (relu1): ReLU()\n",
       "  (pool1): MaxPool2d(kernel_size=2, stride=2, padding=0, dilation=1, ceil_mode=False)\n",
       "  (conv2): Conv2d(16, 16, kernel_size=(5, 5), stride=(1, 1))\n",
       "  (relu2): ReLU()\n",
       "  (pool2): MaxPool2d(kernel_size=2, stride=2, padding=0, dilation=1, ceil_mode=False)\n",
       "  (conv3): Conv2d(16, 16, kernel_size=(4, 4), stride=(1, 1))\n",
       "  (relu3): ReLU()\n",
       "  (conv4): Conv2d(16, 32, kernel_size=(4, 4), stride=(1, 1))\n",
       "  (relu4): ReLU()\n",
       "  (pool4): MaxPool2d(kernel_size=2, stride=2, padding=0, dilation=1, ceil_mode=False)\n",
       "  (lin1): Linear(in_features=288, out_features=128, bias=True)\n",
       "  (lin2): Linear(in_features=128, out_features=10, bias=True)\n",
       ")"
      ]
     },
     "execution_count": 23,
     "metadata": {},
     "output_type": "execute_result"
    }
   ],
   "source": [
    "device = torch.device(\"cuda\" if torch.cuda.is_available() else \"cpu\")\n",
    "model.to(device)"
   ]
  },
  {
   "cell_type": "markdown",
   "id": "99a8b5dc",
   "metadata": {},
   "source": [
    "### Define the training function"
   ]
  },
  {
   "cell_type": "code",
   "execution_count": 29,
   "id": "bbb08e18",
   "metadata": {},
   "outputs": [],
   "source": [
    "def train(model, train_loader, val_loader, loss_fn, optimizer, device, num_epochs):\n",
    "    train_losses = []\n",
    "    train_accs = []\n",
    "    val_losses = []\n",
    "    val_accs = []\n",
    "    best_val_acc = 0.0\n",
    "    for epoch in range(num_epochs):\n",
    "        # Training\n",
    "        running_loss = 0.0\n",
    "        correct = 0\n",
    "        total = 0\n",
    "        for batch, (X, y) in enumerate(train_loader):\n",
    "            # Move tensors to the configured device\n",
    "            X, y = X.to(device), y.to(device)\n",
    "\n",
    "            optimizer.zero_grad()\n",
    "\n",
    "            # Compute prediction and loss\n",
    "            pred = model(X)\n",
    "\n",
    "            # Compute loss and its gradients\n",
    "            loss = loss_fn(pred, y)\n",
    "            loss.backward()\n",
    "            \n",
    "\n",
    "            # Backpropagation step\n",
    "            optimizer.step()\n",
    "\n",
    "            running_loss += loss.item()\n",
    "            _, predicted = torch.max(pred.data, 1)\n",
    "            total += y.size(0)\n",
    "            correct += (predicted == y.argmax(1)).sum().item()\n",
    "\n",
    "            # Display progress\n",
    "            if batch % 30 == 0:\n",
    "                loss, current = loss.item(), batch * len(X)\n",
    "                print(f\"Epoch {epoch+1}, batch {batch+1}/{len(train_loader)}, loss: {loss:.4f}\")\n",
    "        \n",
    "        train_loss = running_loss / len(train_loader)\n",
    "        train_acc = 100 * correct / total\n",
    "\n",
    "        train_losses.append(train_loss)\n",
    "        train_accs.append(train_acc)\n",
    "        print(f\"Epoch {epoch+1}, train loss: {train_loss:.4f}, train accuracy: {train_acc:.2f}%\")\n",
    "\n",
    "        # Validation\n",
    "\n",
    "        running_loss = 0.0\n",
    "        correct = 0\n",
    "        total = 0\n",
    "        with torch.no_grad():\n",
    "            for batch, (X, y) in enumerate(val_loader):\n",
    "                X, y = X.to(device), y.to(device)\n",
    "                pred = model(X)\n",
    "                loss = loss_fn(pred, y)\n",
    "                running_loss += loss.item()\n",
    "                _, predicted = torch.max(pred.data, 1)\n",
    "                total += y.size(0)\n",
    "                correct += (predicted == y.argmax(1)).sum().item()\n",
    "            val_loss = running_loss / len(val_loader)\n",
    "            val_acc = 100 * correct / total\n",
    "            val_losses.append(val_loss)\n",
    "            val_accs.append(val_acc)\n",
    "            print(f\"Epoch {epoch+1}, val loss: {val_loss:.4f}, val accuracy: {val_acc:.2f}%\")\n",
    "        \n",
    "            # # Save best model\n",
    "            # if val_acc > best_val_acc:\n",
    "            #     best_val_acc = val_acc\n",
    "            #     torch.save(model.state_dict(), \"best_model.pt\")\n",
    "\n",
    "    return train_losses, train_accs, val_losses, val_accs\n",
    "\n"
   ]
  },
  {
   "cell_type": "code",
   "execution_count": 30,
   "id": "f224c264",
   "metadata": {},
   "outputs": [
    {
     "name": "stdout",
     "output_type": "stream",
     "text": [
      "Epoch 1, batch 1/185, loss: 2.2437\n"
     ]
    },
    {
     "name": "stdout",
     "output_type": "stream",
     "text": [
      "Epoch 1, batch 31/185, loss: 2.2180\n",
      "Epoch 1, batch 61/185, loss: 2.2057\n",
      "Epoch 1, batch 91/185, loss: 2.2414\n",
      "Epoch 1, batch 121/185, loss: 2.3097\n",
      "Epoch 1, batch 151/185, loss: 2.1376\n",
      "Epoch 1, batch 181/185, loss: 2.1456\n",
      "Epoch 1, train loss: 2.1902, train accuracy: 15.19%\n",
      "Epoch 1, val loss: 2.1320, val accuracy: 16.71%\n",
      "Epoch 2, batch 1/185, loss: 2.1092\n",
      "Epoch 2, batch 31/185, loss: 2.1546\n",
      "Epoch 2, batch 61/185, loss: 2.1457\n",
      "Epoch 2, batch 91/185, loss: 2.0378\n",
      "Epoch 2, batch 121/185, loss: 1.9566\n",
      "Epoch 2, batch 151/185, loss: 2.0057\n",
      "Epoch 2, batch 181/185, loss: 1.9878\n",
      "Epoch 2, train loss: 2.0749, train accuracy: 16.84%\n",
      "Epoch 2, val loss: 1.9778, val accuracy: 20.96%\n",
      "Epoch 3, batch 1/185, loss: 2.0576\n",
      "Epoch 3, batch 31/185, loss: 2.0390\n",
      "Epoch 3, batch 61/185, loss: 2.0495\n",
      "Epoch 3, batch 91/185, loss: 1.9281\n",
      "Epoch 3, batch 121/185, loss: 1.8845\n",
      "Epoch 3, batch 151/185, loss: 2.1280\n",
      "Epoch 3, batch 181/185, loss: 2.0181\n",
      "Epoch 3, train loss: 1.9798, train accuracy: 22.88%\n",
      "Epoch 3, val loss: 1.9511, val accuracy: 23.09%\n",
      "Epoch 4, batch 1/185, loss: 2.1409\n",
      "Epoch 4, batch 31/185, loss: 1.8482\n",
      "Epoch 4, batch 61/185, loss: 1.9366\n",
      "Epoch 4, batch 91/185, loss: 1.9672\n",
      "Epoch 4, batch 121/185, loss: 1.9517\n",
      "Epoch 4, batch 151/185, loss: 1.9791\n",
      "Epoch 4, batch 181/185, loss: 1.8917\n",
      "Epoch 4, train loss: 1.9440, train accuracy: 24.63%\n",
      "Epoch 4, val loss: 1.9052, val accuracy: 24.87%\n",
      "Epoch 5, batch 1/185, loss: 2.0410\n",
      "Epoch 5, batch 31/185, loss: 1.8964\n",
      "Epoch 5, batch 61/185, loss: 2.0107\n",
      "Epoch 5, batch 91/185, loss: 1.8110\n",
      "Epoch 5, batch 121/185, loss: 1.8815\n",
      "Epoch 5, batch 151/185, loss: 1.8569\n",
      "Epoch 5, batch 181/185, loss: 1.8980\n",
      "Epoch 5, train loss: 1.9097, train accuracy: 25.73%\n",
      "Epoch 5, val loss: 1.8554, val accuracy: 25.26%\n",
      "Epoch 6, batch 1/185, loss: 1.9128\n",
      "Epoch 6, batch 31/185, loss: 1.7561\n",
      "Epoch 6, batch 61/185, loss: 1.8205\n",
      "Epoch 6, batch 91/185, loss: 1.8754\n",
      "Epoch 6, batch 121/185, loss: 1.6827\n",
      "Epoch 6, batch 151/185, loss: 1.8402\n",
      "Epoch 6, batch 181/185, loss: 1.7338\n",
      "Epoch 6, train loss: 1.8613, train accuracy: 26.06%\n",
      "Epoch 6, val loss: 1.8346, val accuracy: 24.39%\n",
      "Epoch 7, batch 1/185, loss: 1.6619\n",
      "Epoch 7, batch 31/185, loss: 1.7518\n",
      "Epoch 7, batch 61/185, loss: 1.8820\n",
      "Epoch 7, batch 91/185, loss: 1.9053\n",
      "Epoch 7, batch 121/185, loss: 1.8002\n",
      "Epoch 7, batch 151/185, loss: 1.7527\n",
      "Epoch 7, batch 181/185, loss: 1.8103\n",
      "Epoch 7, train loss: 1.7957, train accuracy: 28.18%\n",
      "Epoch 7, val loss: 1.7220, val accuracy: 30.51%\n",
      "Epoch 8, batch 1/185, loss: 1.7075\n",
      "Epoch 8, batch 31/185, loss: 1.7278\n",
      "Epoch 8, batch 61/185, loss: 1.8765\n",
      "Epoch 8, batch 91/185, loss: 1.8127\n",
      "Epoch 8, batch 121/185, loss: 1.6431\n",
      "Epoch 8, batch 151/185, loss: 1.8303\n",
      "Epoch 8, batch 181/185, loss: 1.7262\n",
      "Epoch 8, train loss: 1.7532, train accuracy: 31.67%\n",
      "Epoch 8, val loss: 1.6829, val accuracy: 34.24%\n",
      "Epoch 9, batch 1/185, loss: 1.6535\n",
      "Epoch 9, batch 31/185, loss: 1.7660\n",
      "Epoch 9, batch 61/185, loss: 1.7177\n",
      "Epoch 9, batch 91/185, loss: 1.8052\n",
      "Epoch 9, batch 121/185, loss: 1.7874\n",
      "Epoch 9, batch 151/185, loss: 1.7613\n",
      "Epoch 9, batch 181/185, loss: 1.4959\n",
      "Epoch 9, train loss: 1.6778, train accuracy: 35.47%\n",
      "Epoch 9, val loss: 1.5812, val accuracy: 38.85%\n",
      "Epoch 10, batch 1/185, loss: 1.8335\n",
      "Epoch 10, batch 31/185, loss: 1.4448\n",
      "Epoch 10, batch 61/185, loss: 1.6635\n",
      "Epoch 10, batch 91/185, loss: 1.6232\n",
      "Epoch 10, batch 121/185, loss: 1.6542\n",
      "Epoch 10, batch 151/185, loss: 1.6633\n",
      "Epoch 10, batch 181/185, loss: 1.5962\n",
      "Epoch 10, train loss: 1.5959, train accuracy: 39.23%\n",
      "Epoch 10, val loss: 1.5468, val accuracy: 39.54%\n",
      "Epoch 11, batch 1/185, loss: 1.5955\n",
      "Epoch 11, batch 31/185, loss: 1.5247\n",
      "Epoch 11, batch 61/185, loss: 1.8136\n",
      "Epoch 11, batch 91/185, loss: 1.7084\n",
      "Epoch 11, batch 121/185, loss: 1.4980\n",
      "Epoch 11, batch 151/185, loss: 1.6682\n",
      "Epoch 11, batch 181/185, loss: 1.6623\n",
      "Epoch 11, train loss: 1.5726, train accuracy: 39.95%\n",
      "Epoch 11, val loss: 1.4981, val accuracy: 39.76%\n",
      "Epoch 12, batch 1/185, loss: 1.5486\n",
      "Epoch 12, batch 31/185, loss: 1.6015\n",
      "Epoch 12, batch 61/185, loss: 1.4410\n",
      "Epoch 12, batch 91/185, loss: 1.6052\n",
      "Epoch 12, batch 121/185, loss: 1.4517\n",
      "Epoch 12, batch 151/185, loss: 1.4971\n",
      "Epoch 12, batch 181/185, loss: 1.6291\n",
      "Epoch 12, train loss: 1.4953, train accuracy: 42.35%\n",
      "Epoch 12, val loss: 1.4453, val accuracy: 43.14%\n",
      "Epoch 13, batch 1/185, loss: 1.5621\n",
      "Epoch 13, batch 31/185, loss: 1.4181\n",
      "Epoch 13, batch 61/185, loss: 1.8842\n",
      "Epoch 13, batch 91/185, loss: 1.3692\n",
      "Epoch 13, batch 121/185, loss: 1.4558\n",
      "Epoch 13, batch 151/185, loss: 1.2503\n",
      "Epoch 13, batch 181/185, loss: 1.3303\n",
      "Epoch 13, train loss: 1.4909, train accuracy: 42.54%\n",
      "Epoch 13, val loss: 1.4276, val accuracy: 40.67%\n",
      "Epoch 14, batch 1/185, loss: 1.3221\n",
      "Epoch 14, batch 31/185, loss: 1.5707\n",
      "Epoch 14, batch 61/185, loss: 1.4059\n",
      "Epoch 14, batch 91/185, loss: 1.3613\n",
      "Epoch 14, batch 121/185, loss: 1.3064\n",
      "Epoch 14, batch 151/185, loss: 1.4647\n",
      "Epoch 14, batch 181/185, loss: 1.6149\n",
      "Epoch 14, train loss: 1.4398, train accuracy: 44.43%\n",
      "Epoch 14, val loss: 1.4138, val accuracy: 44.57%\n",
      "Epoch 15, batch 1/185, loss: 1.4305\n",
      "Epoch 15, batch 31/185, loss: 1.1713\n",
      "Epoch 15, batch 61/185, loss: 1.3647\n",
      "Epoch 15, batch 91/185, loss: 1.5647\n",
      "Epoch 15, batch 121/185, loss: 1.4965\n",
      "Epoch 15, batch 151/185, loss: 1.2023\n",
      "Epoch 15, batch 181/185, loss: 1.2350\n",
      "Epoch 15, train loss: 1.3967, train accuracy: 46.09%\n",
      "Epoch 15, val loss: 1.3418, val accuracy: 47.35%\n",
      "Epoch 16, batch 1/185, loss: 1.3120\n",
      "Epoch 16, batch 31/185, loss: 1.2988\n",
      "Epoch 16, batch 61/185, loss: 1.2496\n",
      "Epoch 16, batch 91/185, loss: 1.5239\n",
      "Epoch 16, batch 121/185, loss: 1.4403\n",
      "Epoch 16, batch 151/185, loss: 1.5939\n",
      "Epoch 16, batch 181/185, loss: 1.2264\n",
      "Epoch 16, train loss: 1.3863, train accuracy: 47.04%\n",
      "Epoch 16, val loss: 1.4652, val accuracy: 42.80%\n",
      "Epoch 17, batch 1/185, loss: 1.4823\n",
      "Epoch 17, batch 31/185, loss: 1.4725\n",
      "Epoch 17, batch 61/185, loss: 1.2351\n",
      "Epoch 17, batch 91/185, loss: 1.4867\n",
      "Epoch 17, batch 121/185, loss: 1.2868\n",
      "Epoch 17, batch 151/185, loss: 1.2787\n",
      "Epoch 17, batch 181/185, loss: 1.6334\n",
      "Epoch 17, train loss: 1.3611, train accuracy: 47.78%\n",
      "Epoch 17, val loss: 1.2945, val accuracy: 50.26%\n",
      "Epoch 18, batch 1/185, loss: 1.2781\n",
      "Epoch 18, batch 31/185, loss: 1.1385\n",
      "Epoch 18, batch 61/185, loss: 1.4087\n",
      "Epoch 18, batch 91/185, loss: 1.3800\n",
      "Epoch 18, batch 121/185, loss: 1.4030\n",
      "Epoch 18, batch 151/185, loss: 1.2684\n",
      "Epoch 18, batch 181/185, loss: 1.1779\n",
      "Epoch 18, train loss: 1.3141, train accuracy: 50.77%\n",
      "Epoch 18, val loss: 1.3009, val accuracy: 47.61%\n",
      "Epoch 19, batch 1/185, loss: 1.4328\n",
      "Epoch 19, batch 31/185, loss: 1.3446\n",
      "Epoch 19, batch 61/185, loss: 1.2621\n",
      "Epoch 19, batch 91/185, loss: 1.1648\n",
      "Epoch 19, batch 121/185, loss: 1.1785\n",
      "Epoch 19, batch 151/185, loss: 1.1520\n",
      "Epoch 19, batch 181/185, loss: 1.4379\n",
      "Epoch 19, train loss: 1.3009, train accuracy: 51.19%\n",
      "Epoch 19, val loss: 1.2457, val accuracy: 51.43%\n",
      "Epoch 20, batch 1/185, loss: 1.2655\n",
      "Epoch 20, batch 31/185, loss: 1.1343\n",
      "Epoch 20, batch 61/185, loss: 1.0394\n",
      "Epoch 20, batch 91/185, loss: 1.1080\n",
      "Epoch 20, batch 121/185, loss: 1.0377\n",
      "Epoch 20, batch 151/185, loss: 1.3506\n",
      "Epoch 20, batch 181/185, loss: 1.6388\n",
      "Epoch 20, train loss: 1.2662, train accuracy: 52.45%\n",
      "Epoch 20, val loss: 1.5044, val accuracy: 41.36%\n"
     ]
    }
   ],
   "source": [
    "train_losses, train_accs, val_losses, val_accs = train(model, train_loader, val_loader, criterion, optimizer, device, num_epochs=20)"
   ]
  },
  {
   "cell_type": "code",
   "execution_count": 31,
   "id": "405f2d5f",
   "metadata": {},
   "outputs": [],
   "source": [
    "import matplotlib.pyplot as plt\n",
    "\n",
    "def plot_loss_accuracy(train_losses, val_losses, train_accs, val_accs):\n",
    "    # Plot loss and accuracy\n",
    "    fig, ax = plt.subplots(2, 1, figsize=(10, 8))\n",
    "    ax[0].plot(train_losses, label=\"Training\")\n",
    "    ax[0].plot(val_losses, label=\"Validation\")\n",
    "    ax[0].set_title(\"Loss\")\n",
    "    ax[0].set_xlabel(\"Epoch\")\n",
    "    ax[0].set_ylabel(\"Loss\")\n",
    "    ax[0].legend()\n",
    "    ax[0].grid()\n",
    "    ax[1].plot(train_accs, label=\"Training\")\n",
    "    ax[1].plot(val_accs, label=\"Validation\")\n",
    "    ax[1].set_title(\"Accuracy\")\n",
    "    ax[1].set_xlabel(\"Epoch\")\n",
    "    ax[1].set_ylabel(\"Accuracy (%)\")\n",
    "    ax[1].legend()\n",
    "    ax[1].grid()\n",
    "    plt.show()"
   ]
  },
  {
   "cell_type": "code",
   "execution_count": 33,
   "id": "15d898fe",
   "metadata": {},
   "outputs": [
    {
     "data": {
      "image/png": "[encoded data removed]",
      "text/plain": [
       "<Figure size 1000x800 with 2 Axes>"
      ]
     },
     "metadata": {},
     "output_type": "display_data"
    }
   ],
   "source": [
    "plot_loss_accuracy(train_losses, val_losses, train_accs, val_accs)"
   ]
  },
  {
   "cell_type": "code",
   "execution_count": null,
   "id": "b983a7d0-4506-4a87-90b5-3713e6c088b0",
   "metadata": {},
   "outputs": [],
   "source": []
  }
 ],
 "metadata": {
  "kernelspec": {
   "display_name": "Python 3 (ipykernel)",
   "language": "python",
   "name": "python3"
  },
  "language_info": {
   "codemirror_mode": {
    "name": "ipython",
    "version": 3
   },
   "file_extension": ".py",
   "mimetype": "text/x-python",
   "name": "python",
   "nbconvert_exporter": "python",
   "pygments_lexer": "ipython3",
   "version": "3.8.16"
  }
 },
 "nbformat": 4,
 "nbformat_minor": 5
}
