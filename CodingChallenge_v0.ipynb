{
 "cells": [
  {
   "cell_type": "markdown",
   "id": "2617147a-5efd-4572-9ac0-6b48d1269fa3",
   "metadata": {},
   "source": [
    "## Data loading\n",
    "\n",
    "To work with any kind of data we first have to load it. For this we use a dataloader that reads the images as well as their labels and transforms them into pytorch readable tensors."
   ]
  },
  {
   "cell_type": "code",
   "execution_count": 1,
   "id": "7d80171d",
   "metadata": {},
   "outputs": [],
   "source": [
    "import pathlib\n",
    "\n",
    "import torch\n",
    "import torch.nn as nn\n",
    "\n",
    "from torch.utils.data import Dataset, DataLoader\n",
    "from torchvision.io import read_image"
   ]
  },
  {
   "cell_type": "code",
   "execution_count": 2,
   "id": "0090711b-668a-4bab-a4d7-686081d239cb",
   "metadata": {
    "is_executing": true
   },
   "outputs": [],
   "source": [
    "class RSiMCCDataset(Dataset):\n",
    "    def __init__(self, transform=None):\n",
    "        super().__init__()\n",
    "        self.transform = transform\n",
    "        # get images\n",
    "        image_files = [x.resolve() for x in pathlib.Path(\".\").glob('data/*/*')]\n",
    "        # Image.open() has a bug, this is a workaround\n",
    "        self.images=[read_image(str(p)) for p in image_files] \n",
    "        # get labels from image path\n",
    "        labels = [x.parts[-2] for x in image_files]\n",
    "        self.classes = sorted(list(set(labels)))\n",
    "        self.labels = [self.label_to_tensor(lbl) for lbl in labels]\n",
    "\n",
    "        assert len(self.labels) == len(self.images), f\"Found {len(self.labels)} labels and {len(self.images)} images\"\n",
    "\n",
    "    def label_to_tensor(self, lbl):\n",
    "        \"\"\"\n",
    "        Converts the string label to a one-hot tensor where every entry is zero except the label which is one.\n",
    "        \n",
    "        \"\"\"\n",
    "        assert lbl in self.classes, f\"Class {lbl} not a valid class (valid classes: {self.classes})\"\n",
    "        t = torch.zeros(len(self.classes))\n",
    "        t[self.classes.index(lbl)] = 1\n",
    "        return t\n",
    "\n",
    "    def tensor_to_label(self, t):\n",
    "        \"\"\"\n",
    "        Returns the classname in string format\n",
    "        \"\"\"\n",
    "        assert len(t.shape) == 1, f\"Can only convert 1-dimensional tensors (shape of tensor: {t.shape})\"\n",
    "        assert len(t) == len(self.classes), f\"Lenght of tensor ({len(t)}) does not match number of classes ({len(classes)})\"\n",
    "        return self.classes[t.argmax()]\n",
    "\n",
    "    def __len__(self):\n",
    "        return len(self.labels)\n",
    "\n",
    "    def __getitem__(self, idx):\n",
    "        img = self.images[idx].float()/255\n",
    "        if self.transform:\n",
    "            img = self.transform(img)\n",
    "        return img, self.labels[idx]"
   ]
  },
  {
   "cell_type": "markdown",
   "id": "685aa618-6d38-4ff5-bac6-2e16f8c7a25e",
   "metadata": {},
   "source": [
    "## Examples\n",
    "Now lets load the dataset and look at some examples by just randomly loading the images and their labels"
   ]
  },
  {
   "cell_type": "code",
   "execution_count": 3,
   "id": "673f108f-b1c0-4ab8-a331-3a6d038d2cb8",
   "metadata": {},
   "outputs": [],
   "source": [
    "ds = RSiMCCDataset()"
   ]
  },
  {
   "cell_type": "code",
   "execution_count": 4,
   "id": "0e8257cf",
   "metadata": {},
   "outputs": [
    {
     "name": "stdout",
     "output_type": "stream",
     "text": [
      "The dataset consists of 11519 RGB images of shape torch.Size([3, 64, 64]) labeled in 10 classes which are AnnualCrop, Forest, HerbaceousVegetation, Highway, Industrial, Pasture, PermanentCrop, Residential, River, SeaLake\n"
     ]
    }
   ],
   "source": [
    "print(f\"The dataset consists of {len(ds)} RGB images of shape {ds.images[0].shape} labeled in {ds.labels[0].shape[0]} classes which are \" + ', '.join(ds.classes))"
   ]
  },
  {
   "cell_type": "code",
   "execution_count": 5,
   "id": "88aefed8",
   "metadata": {},
   "outputs": [
    {
     "data": {
      "text/plain": [
       "tensor([0., 0., 0., 0., 1., 0., 0., 0., 0., 0.])"
      ]
     },
     "execution_count": 5,
     "metadata": {},
     "output_type": "execute_result"
    }
   ],
   "source": [
    "ds.labels[0]"
   ]
  },
  {
   "cell_type": "code",
   "execution_count": 7,
   "id": "429d3a99-809d-456d-b3ed-7db865d1aebc",
   "metadata": {},
   "outputs": [
    {
     "data": {
      "image/png": "[encoded data removed]",
      "text/plain": [
       "<Figure size 640x480 with 1 Axes>"
      ]
     },
     "metadata": {},
     "output_type": "display_data"
    }
   ],
   "source": [
    "import matplotlib.pyplot as plt\n",
    "import random\n",
    "\n",
    "r = random.randint(0, len(ds))\n",
    "img, lbl = ds[r]\n",
    "\n",
    "# Display the image\n",
    "plt.imshow(img.permute(1, 2, 0))\n",
    "plt.axis('off')\n",
    "plt.title(ds.tensor_to_label(lbl) + \"\\nIndex: \" + str(r))\n",
    "plt.show()"
   ]
  },
  {
   "cell_type": "code",
   "execution_count": 8,
   "id": "0b06f55a",
   "metadata": {},
   "outputs": [
    {
     "data": {
      "text/plain": [
       "torch.Size([3, 64, 64])"
      ]
     },
     "execution_count": 8,
     "metadata": {},
     "output_type": "execute_result"
    }
   ],
   "source": [
    "ds.labels[0]\n",
    "\n",
    "ds[0][0].shape"
   ]
  },
  {
   "cell_type": "markdown",
   "id": "e1a81752",
   "metadata": {},
   "source": [
    "# Create my custom convolution model for the task"
   ]
  },
  {
   "cell_type": "code",
   "execution_count": 8,
   "id": "609bc17e",
   "metadata": {},
   "outputs": [],
   "source": [
    "class SimpleCNN(nn.Module):\n",
    "    def __init__(self, nb_classes):\n",
    "        super(SimpleCNN, self).__init__()\n",
    "        # inputs (N,3,64,64)\n",
    "        self.conv1 = nn.Conv2d(in_channels=3, out_channels=16, kernel_size=5)\n",
    "        self.relu1 = nn.ReLU()\n",
    "        self.pool1 = nn.MaxPool2d(kernel_size=2, stride=2)\n",
    "\n",
    "        self.conv2 = nn.Conv2d(in_channels=16, out_channels=16, kernel_size=5)\n",
    "        self.relu2 = nn.ReLU()\n",
    "        self.pool2 = nn.MaxPool2d(kernel_size=2, stride=2)\n",
    "\n",
    "        self.conv3 = nn.Conv2d(in_channels=16, out_channels=16, kernel_size=4)\n",
    "        self.relu3 = nn.ReLU()\n",
    "        \n",
    "        self.conv4 = nn.Conv2d(in_channels=16, out_channels=32, kernel_size=4)\n",
    "        self.relu4 = nn.ReLU()\n",
    "        self.pool4 = nn.MaxPool2d(kernel_size=2, stride=2)\n",
    "\n",
    "        self.lin1  = nn.Linear(32*3*3, 128)\n",
    "        self.lin2  = nn.Linear(128, nb_classes)\n",
    "        \n",
    "    def forward(self, x):\n",
    "        x = self.relu1(self.conv1(x))\n",
    "        x = self.pool1(x)\n",
    "\n",
    "        x = self.relu2(self.conv2(x))\n",
    "        x = self.pool2(x)\n",
    "\n",
    "        x = self.relu3(self.conv3(x))\n",
    "        x = self.relu4(self.conv4(x))\n",
    "        x = self.pool4(x)\n",
    "\n",
    "        x = self.lin1(x.view(-1, 32*3*3))\n",
    "        x = self.lin2(x)\n",
    "        return x\n",
    "\n",
    "def get_model(nb_classes):\n",
    "    return SimpleCNN(nb_classes)\n"
   ]
  },
  {
   "cell_type": "code",
   "execution_count": 10,
   "id": "c294b18e",
   "metadata": {},
   "outputs": [
    {
     "data": {
      "text/plain": [
       "torch.Size([42, 32, 3, 3])"
      ]
     },
     "execution_count": 10,
     "metadata": {},
     "output_type": "execute_result"
    }
   ],
   "source": [
    "# Create a dummy image to test input of the network\n",
    "dummy_img = torch.zeros(42, 3, 64, 64)\n",
    "model = get_model(len(ds.classes))\n",
    "model(dummy_img).shape"
   ]
  },
  {
   "cell_type": "markdown",
   "id": "55d82760",
   "metadata": {},
   "source": [
    "### Initialize the model and dataloader"
   ]
  },
  {
   "cell_type": "code",
   "execution_count": 117,
   "id": "37dce276",
   "metadata": {},
   "outputs": [
    {
     "name": "stdout",
     "output_type": "stream",
     "text": [
      "Feature batch shape: torch.Size([50, 3, 64, 64])\n",
      "Labels batch shape: torch.Size([50, 10])\n",
      "torch.Size([20, 10])\n"
     ]
    },
    {
     "data": {
      "text/plain": [
       "=================================================================\n",
       "Layer (type:depth-idx)                   Param #\n",
       "=================================================================\n",
       "SimpleCNN                                --\n",
       "├─Conv2d: 1-1                            1,216\n",
       "├─ReLU: 1-2                              --\n",
       "├─MaxPool2d: 1-3                         --\n",
       "├─Conv2d: 1-4                            6,416\n",
       "├─ReLU: 1-5                              --\n",
       "├─MaxPool2d: 1-6                         --\n",
       "├─Conv2d: 1-7                            4,112\n",
       "├─ReLU: 1-8                              --\n",
       "├─Conv2d: 1-9                            8,224\n",
       "├─ReLU: 1-10                             --\n",
       "├─MaxPool2d: 1-11                        --\n",
       "├─Linear: 1-12                           36,992\n",
       "├─Linear: 1-13                           1,290\n",
       "=================================================================\n",
       "Total params: 58,250\n",
       "Trainable params: 58,250\n",
       "Non-trainable params: 0\n",
       "================================================================="
      ]
     },
     "execution_count": 117,
     "metadata": {},
     "output_type": "execute_result"
    }
   ],
   "source": [
    "data_loader = DataLoader(ds, batch_size=50, shuffle=True)\n",
    "\n",
    "train_features, train_labels = next(iter(data_loader))\n",
    "print(f\"Feature batch shape: {train_features.size()}\")\n",
    "print(f\"Labels batch shape: {train_labels.size()}\")\n",
    "\n",
    "\n",
    "num_classes = len(ds.classes)\n",
    "model = get_model(num_classes)\n",
    "\n",
    "criterion = torch.nn.CrossEntropyLoss()\n",
    "optimizer = torch.optim.SGD(model.parameters(), lr=0.001, momentum=0.9)\n",
    "\n",
    "\n",
    "image = torch.randn(20, 3, 64, 64) # create dummy image\n",
    "output = model(image)\n",
    "\n",
    "print(model(image).shape) # show the output of one batch of images\n",
    "\n",
    "from torchinfo import summary\n",
    "summary(model) # display summary of the model and number of trainable parameters"
   ]
  },
  {
   "cell_type": "markdown",
   "id": "520830e6",
   "metadata": {},
   "source": [
    "### Send the model to the GPU"
   ]
  },
  {
   "cell_type": "code",
   "execution_count": 118,
   "id": "76203502",
   "metadata": {},
   "outputs": [
    {
     "data": {
      "text/plain": [
       "SimpleCNN(\n",
       "  (conv1): Conv2d(3, 16, kernel_size=(5, 5), stride=(1, 1))\n",
       "  (relu1): ReLU()\n",
       "  (pool1): MaxPool2d(kernel_size=2, stride=2, padding=0, dilation=1, ceil_mode=False)\n",
       "  (conv2): Conv2d(16, 16, kernel_size=(5, 5), stride=(1, 1))\n",
       "  (relu2): ReLU()\n",
       "  (pool2): MaxPool2d(kernel_size=2, stride=2, padding=0, dilation=1, ceil_mode=False)\n",
       "  (conv3): Conv2d(16, 16, kernel_size=(4, 4), stride=(1, 1))\n",
       "  (relu3): ReLU()\n",
       "  (conv4): Conv2d(16, 32, kernel_size=(4, 4), stride=(1, 1))\n",
       "  (relu4): ReLU()\n",
       "  (pool4): MaxPool2d(kernel_size=2, stride=2, padding=0, dilation=1, ceil_mode=False)\n",
       "  (lin1): Linear(in_features=288, out_features=128, bias=True)\n",
       "  (lin2): Linear(in_features=128, out_features=10, bias=True)\n",
       ")"
      ]
     },
     "execution_count": 118,
     "metadata": {},
     "output_type": "execute_result"
    }
   ],
   "source": [
    "device = torch.device(\"cuda\" if torch.cuda.is_available() else \"cpu\")\n",
    "model.to(device)"
   ]
  },
  {
   "cell_type": "markdown",
   "id": "99a8b5dc",
   "metadata": {},
   "source": [
    "### Define the training function"
   ]
  },
  {
   "cell_type": "code",
   "execution_count": 119,
   "id": "d4d4ea4c",
   "metadata": {},
   "outputs": [],
   "source": [
    "def train(dataloader, model, loss_fn, optimizer, device, num_epochs=20):\n",
    "    train_losses = []\n",
    "    train_accuracies = []\n",
    "    for epoch in range(num_epochs):\n",
    "        running_loss = 0.0\n",
    "        correct = 0\n",
    "        total = 0\n",
    "        for batch, (X, y) in enumerate(dataloader):\n",
    "            # Move tensors to the configured device\n",
    "            X, y = X.to(device), y.to(device)\n",
    "            \n",
    "            optimizer.zero_grad()\n",
    "            \n",
    "            # Compute prediction\n",
    "            pred = model(X)\n",
    "\n",
    "            # Compute the loss and its gradients\n",
    "            loss = loss_fn(pred, y.argmax(1))\n",
    "            loss.backward()\n",
    "\n",
    "            # Backpropagation step\n",
    "            optimizer.step()\n",
    "\n",
    "            # Update running loss and accuracy\n",
    "            running_loss += loss.item()\n",
    "            _, predicted = torch.max(pred.data, 1)\n",
    "            total += y.size(0)\n",
    "            correct += (predicted == y.argmax(1)).sum().item()\n",
    "\n",
    "            # Display progress\n",
    "            if batch % 30 == 0:\n",
    "                loss, current = loss.item(), batch * len(X)\n",
    "                print(f\"Epoch {epoch+1}, batch {batch+1}/{len(dataloader)}, loss: {loss:.4f}\")\n",
    "\n",
    "        # Calculate epoch loss and accuracy\n",
    "        epoch_loss = running_loss / len(dataloader)\n",
    "        epoch_acc = 100 * correct / total\n",
    "        train_losses.append(epoch_loss)\n",
    "        train_accuracies.append(epoch_acc)\n",
    "        \n",
    "        print(f\"Epoch {epoch+1}, loss: {epoch_loss:.4f}, accuracy: {epoch_acc:.2f}%\")\n",
    "    return train_losses, train_accuracies"
   ]
  },
  {
   "cell_type": "code",
   "execution_count": 120,
   "id": "f224c264",
   "metadata": {},
   "outputs": [
    {
     "name": "stdout",
     "output_type": "stream",
     "text": [
      "Epoch 1, batch 1/231, loss: 2.3085\n",
      "Epoch 1, batch 31/231, loss: 2.3098\n",
      "Epoch 1, batch 61/231, loss: 2.3041\n",
      "Epoch 1, batch 91/231, loss: 2.2716\n",
      "Epoch 1, batch 121/231, loss: 2.2865\n",
      "Epoch 1, batch 151/231, loss: 2.2735\n",
      "Epoch 1, batch 181/231, loss: 2.2740\n",
      "Epoch 1, batch 211/231, loss: 2.2760\n",
      "Epoch 1, loss: 2.2891, accuracy: 15.96%\n",
      "Epoch 2, batch 1/231, loss: 2.2889\n",
      "Epoch 2, batch 31/231, loss: 2.2590\n",
      "Epoch 2, batch 61/231, loss: 2.2609\n",
      "Epoch 2, batch 91/231, loss: 2.2767\n",
      "Epoch 2, batch 121/231, loss: 2.2322\n",
      "Epoch 2, batch 151/231, loss: 2.2710\n",
      "Epoch 2, batch 181/231, loss: 2.2693\n",
      "Epoch 2, batch 211/231, loss: 2.2775\n",
      "Epoch 2, loss: 2.2569, accuracy: 15.96%\n",
      "Epoch 3, batch 1/231, loss: 2.2073\n",
      "Epoch 3, batch 31/231, loss: 2.2251\n",
      "Epoch 3, batch 61/231, loss: 2.2256\n",
      "Epoch 3, batch 91/231, loss: 2.2303\n",
      "Epoch 3, batch 121/231, loss: 2.1871\n",
      "Epoch 3, batch 151/231, loss: 2.1020\n",
      "Epoch 3, batch 181/231, loss: 2.2548\n",
      "Epoch 3, batch 211/231, loss: 2.1335\n",
      "Epoch 3, loss: 2.2065, accuracy: 16.43%\n",
      "Epoch 4, batch 1/231, loss: 2.1254\n",
      "Epoch 4, batch 31/231, loss: 2.1078\n",
      "Epoch 4, batch 61/231, loss: 2.2167\n",
      "Epoch 4, batch 91/231, loss: 2.1005\n",
      "Epoch 4, batch 121/231, loss: 2.0409\n",
      "Epoch 4, batch 151/231, loss: 1.9918\n",
      "Epoch 4, batch 181/231, loss: 2.0393\n",
      "Epoch 4, batch 211/231, loss: 1.9516\n",
      "Epoch 4, loss: 2.0697, accuracy: 16.68%\n",
      "Epoch 5, batch 1/231, loss: 1.9771\n",
      "Epoch 5, batch 31/231, loss: 2.0400\n",
      "Epoch 5, batch 61/231, loss: 1.9987\n",
      "Epoch 5, batch 91/231, loss: 1.9741\n",
      "Epoch 5, batch 121/231, loss: 1.7407\n",
      "Epoch 5, batch 151/231, loss: 1.8157\n",
      "Epoch 5, batch 181/231, loss: 1.9918\n",
      "Epoch 5, batch 211/231, loss: 1.9128\n",
      "Epoch 5, loss: 1.9450, accuracy: 23.52%\n",
      "Epoch 6, batch 1/231, loss: 2.0298\n",
      "Epoch 6, batch 31/231, loss: 1.8566\n",
      "Epoch 6, batch 61/231, loss: 1.8036\n",
      "Epoch 6, batch 91/231, loss: 1.7669\n",
      "Epoch 6, batch 121/231, loss: 1.7951\n",
      "Epoch 6, batch 151/231, loss: 1.7514\n",
      "Epoch 6, batch 181/231, loss: 1.8035\n",
      "Epoch 6, batch 211/231, loss: 1.7749\n",
      "Epoch 6, loss: 1.8235, accuracy: 26.57%\n",
      "Epoch 7, batch 1/231, loss: 2.0601\n",
      "Epoch 7, batch 31/231, loss: 1.7574\n",
      "Epoch 7, batch 61/231, loss: 1.7815\n",
      "Epoch 7, batch 91/231, loss: 1.7643\n",
      "Epoch 7, batch 121/231, loss: 1.7492\n",
      "Epoch 7, batch 151/231, loss: 1.6581\n",
      "Epoch 7, batch 181/231, loss: 1.7069\n",
      "Epoch 7, batch 211/231, loss: 1.8845\n",
      "Epoch 7, loss: 1.7692, accuracy: 30.84%\n",
      "Epoch 8, batch 1/231, loss: 1.6910\n",
      "Epoch 8, batch 31/231, loss: 1.8185\n",
      "Epoch 8, batch 61/231, loss: 1.6848\n",
      "Epoch 8, batch 91/231, loss: 1.6047\n",
      "Epoch 8, batch 121/231, loss: 1.5017\n",
      "Epoch 8, batch 151/231, loss: 1.4907\n",
      "Epoch 8, batch 181/231, loss: 1.6482\n",
      "Epoch 8, batch 211/231, loss: 1.4470\n",
      "Epoch 8, loss: 1.6738, accuracy: 35.96%\n",
      "Epoch 9, batch 1/231, loss: 1.6345\n",
      "Epoch 9, batch 31/231, loss: 1.6911\n",
      "Epoch 9, batch 61/231, loss: 1.6213\n",
      "Epoch 9, batch 91/231, loss: 1.7676\n",
      "Epoch 9, batch 121/231, loss: 1.4729\n",
      "Epoch 9, batch 151/231, loss: 1.6721\n",
      "Epoch 9, batch 181/231, loss: 1.5451\n",
      "Epoch 9, batch 211/231, loss: 1.6153\n",
      "Epoch 9, loss: 1.6023, accuracy: 37.86%\n",
      "Epoch 10, batch 1/231, loss: 1.3682\n",
      "Epoch 10, batch 31/231, loss: 1.5274\n",
      "Epoch 10, batch 61/231, loss: 1.4153\n",
      "Epoch 10, batch 91/231, loss: 1.9786\n",
      "Epoch 10, batch 121/231, loss: 1.4409\n",
      "Epoch 10, batch 151/231, loss: 1.5438\n",
      "Epoch 10, batch 181/231, loss: 1.3589\n",
      "Epoch 10, batch 211/231, loss: 1.5091\n",
      "Epoch 10, loss: 1.5308, accuracy: 40.76%\n"
     ]
    }
   ],
   "source": [
    "train_losses, train_accuracies = train(data_loader, model, criterion, optimizer, device, num_epochs=10)"
   ]
  },
  {
   "cell_type": "code",
   "execution_count": 121,
   "id": "405f2d5f",
   "metadata": {},
   "outputs": [],
   "source": [
    "import matplotlib.pyplot as plt\n",
    "\n",
    "def plot_loss_accuracy(train_losses, train_accuracies):\n",
    "    # Plot loss and accuracy\n",
    "    fig, ax = plt.subplots(2, 1, figsize=(8, 6))\n",
    "    ax[0].plot(train_losses)\n",
    "    ax[0].set_title(\"Training Loss\")\n",
    "    ax[0].set_xlabel(\"Epoch\")\n",
    "    ax[0].set_ylabel(\"Loss\")\n",
    "    ax[0].grid(True)\n",
    "    ax[1].plot(train_accuracies)\n",
    "    ax[1].set_title(\"Training Accuracy\")\n",
    "    ax[1].set_xlabel(\"Epoch\")\n",
    "    ax[1].set_ylabel(\"Accuracy (%)\")\n",
    "    ax[1].grid(True)\n",
    "    plt.show()"
   ]
  },
  {
   "cell_type": "code",
   "execution_count": 122,
   "id": "15d898fe",
   "metadata": {},
   "outputs": [
    {
     "data": {
      "image/png": "[encoded data removed]",
      "text/plain": [
       "<Figure size 800x600 with 2 Axes>"
      ]
     },
     "metadata": {},
     "output_type": "display_data"
    }
   ],
   "source": [
    "plot_loss_accuracy(train_losses, train_accuracies)"
   ]
  },
  {
   "cell_type": "markdown",
   "id": "38166d53-39c9-466d-8355-c50147c3ebf3",
   "metadata": {},
   "source": [
    "# Coding Challenge <span style=\"color:red\">[à remplir à la fin]</red>\n",
    "Now that you saw how the data and model could be loaded it is your task to create a model that performs better. For this please fill out the functions in [`CodingChallenge.py`](CodingChallenge.py).  \n",
    "You may re-use code from this notebook if you wish to and you don't have to re-invent the wheel.\n",
    "\n",
    "To fully complete the challenge you have to\n",
    "1. Analyze the data\n",
    "   * How you do this is up to you and optional codes created in this step don't have to be submitted.\n",
    "2. Load the data\n",
    "   * This may include additional steps then just loading\n",
    "3. Load a model\n",
    "   * Beware of changes to the model that may apply\n",
    "   * Your model can be based on an existing architecture (like above) or custom\n",
    "4. Train the model\n",
    "   * This may include several steps\n",
    "5. Evaluate the model\n",
    "   * The result should be a single score applicable to this task\n",
    "6. Summarize your findings\n",
    "   * This may include results of the training process or anything else you want to share"
   ]
  },
  {
   "cell_type": "code",
   "execution_count": 12,
   "id": "108804ca-81ee-4913-ae7f-046cce08d7e1",
   "metadata": {},
   "outputs": [],
   "source": [
    "import CodingChallenge as CodingChallenge\n",
    "# creating model and dataset\n",
    "my_model = CodingChallenge.get_my_model()\n",
    "my_ds = CodingChallenge.get_my_ds()"
   ]
  },
  {
   "cell_type": "code",
   "execution_count": 13,
   "id": "1f9dca3e",
   "metadata": {},
   "outputs": [
    {
     "data": {
      "text/plain": [
       "Ellipsis"
      ]
     },
     "execution_count": 13,
     "metadata": {},
     "output_type": "execute_result"
    }
   ],
   "source": [
    "my_model"
   ]
  },
  {
   "cell_type": "code",
   "execution_count": null,
   "id": "8aeae29c-bf22-4202-bb0b-9bf7b2f00e40",
   "metadata": {},
   "outputs": [],
   "source": [
    "# train the model\n",
    "my_model = CodingChallenge.train(my_model, my_ds)"
   ]
  },
  {
   "cell_type": "code",
   "execution_count": null,
   "id": "d3450622-1207-4e49-a118-cf3e678a8720",
   "metadata": {},
   "outputs": [],
   "source": [
    "# evaluate the model\n",
    "the_final_score = CodingChallenge.final_evaluate(my_model, my_ds)"
   ]
  },
  {
   "cell_type": "code",
   "execution_count": null,
   "id": "e72e2aff-d2ae-4f36-b062-4aa340e4b05c",
   "metadata": {},
   "outputs": [],
   "source": [
    "# summarize the findings\n",
    "CodingChallenge.summary()"
   ]
  },
  {
   "cell_type": "code",
   "execution_count": null,
   "id": "b983a7d0-4506-4a87-90b5-3713e6c088b0",
   "metadata": {},
   "outputs": [],
   "source": []
  }
 ],
 "metadata": {
  "kernelspec": {
   "display_name": "Python 3 (ipykernel)",
   "language": "python",
   "name": "python3"
  },
  "language_info": {
   "codemirror_mode": {
    "name": "ipython",
    "version": 3
   },
   "file_extension": ".py",
   "mimetype": "text/x-python",
   "name": "python",
   "nbconvert_exporter": "python",
   "pygments_lexer": "ipython3",
   "version": "3.8.16"
  }
 },
 "nbformat": 4,
 "nbformat_minor": 5
}
